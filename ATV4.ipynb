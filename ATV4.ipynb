{
  "nbformat": 4,
  "nbformat_minor": 0,
  "metadata": {
    "colab": {
      "provenance": []
    },
    "kernelspec": {
      "name": "python3",
      "display_name": "Python 3"
    },
    "language_info": {
      "name": "python"
    }
  },
  "cells": [
    {
      "cell_type": "code",
      "execution_count": 1,
      "metadata": {
        "id": "mDRVSucspdld"
      },
      "outputs": [],
      "source": [
        "#chamar os pacotes\n",
        "import requests\n",
        "from bs4 import BeautifulSoup"
      ]
    },
    {
      "cell_type": "markdown",
      "source": [
        "## Parte 1\n",
        "\n",
        "Aqui vou acessar uma página de um fórum de torcedores do Palmeiras (Palmeiras todo dia) e pegar todos os tópicos a respeito de opiniões pós-jogo no ano de 2024."
      ],
      "metadata": {
        "id": "PmhT-lJ6prFN"
      }
    },
    {
      "cell_type": "code",
      "source": [
        "#chamar o headers\n",
        "headers = {\n",
        "    \"User-Agent\": \"Mozilla/5.0 (Windows NT 10.0; Win64; x64) AppleWebKit/537.36 (KHTML, like Gecko) Chrome/117.0.0.0 Safari/537.36\"\n",
        "}"
      ],
      "metadata": {
        "id": "N3jmHcUIqAB6"
      },
      "execution_count": 2,
      "outputs": []
    },
    {
      "cell_type": "code",
      "source": [
        "#eu vi que as páginas de 2024 vão até o 10\n",
        "paginas = []\n",
        "for i in range(10):\n",
        "  paginas.append(f'http://www.forumptd.com/index.php?/forum/17-f%C3%B3rum-palmeiras-todo-dia/page/{i}/&sortby=start_date&sortdirection=desc#google_vignette')"
      ],
      "metadata": {
        "id": "d4L9FsNaqNbl"
      },
      "execution_count": 3,
      "outputs": []
    },
    {
      "cell_type": "code",
      "source": [
        "#mas a primeira tem uma nomenclatura diferente\n",
        "paginas[0] = \"http://www.forumptd.com/index.php?/forum/17-f%25C3%25B3rum-palmeiras-todo-dia/&sortby=start_date&sortdirection=desc\""
      ],
      "metadata": {
        "id": "mRrsiG5uqSrZ"
      },
      "execution_count": 4,
      "outputs": []
    },
    {
      "cell_type": "code",
      "source": [
        "import time #para não ser banido\n",
        "import random\n",
        "links = [] #vou salvar os links das paginas dos tópicos pós-jogo\n",
        "for i in paginas:\n",
        "  response = requests.get(i, headers=headers)\n",
        "  soup = BeautifulSoup(response.text, \"html.parser\")\n",
        "  bloco = soup.find_all('span',{'class':'ipsType_break ipsContained'}) #aqui estão as URLS\n",
        "  for i in range(len(bloco)):\n",
        "    acha = [a['href'] for a in bloco[i].find_all('a', href=True)]\n",
        "    links.append(acha[0]) #pegar só a primeira\n",
        "  tempo_espera = random.uniform(0, 0.01) #não ser banido\n",
        "  time.sleep(tempo_espera)\n",
        "\n",
        "links_fitrados = [item for item in links if 'p%C3%B3s-jogo' in item] #filtrar apenas o pós jogos"
      ],
      "metadata": {
        "id": "tDUhQGzOqXlq"
      },
      "execution_count": 5,
      "outputs": []
    },
    {
      "cell_type": "code",
      "source": [
        "len(links_fitrados) ## 62 jogos\n",
        "\n",
        "#exemplo da url\n",
        "links_fitrados[0]"
      ],
      "metadata": {
        "colab": {
          "base_uri": "https://localhost:8080/",
          "height": 35
        },
        "id": "4T7WKzRTqqlX",
        "outputId": "2994e69e-b0e2-441d-9b4c-d2c24c28b96a"
      },
      "execution_count": 6,
      "outputs": [
        {
          "output_type": "execute_result",
          "data": {
            "text/plain": [
              "'http://www.forumptd.com/index.php?/topic/132503-palmeiras-x-fluminense-p%C3%B3s-jogo/'"
            ],
            "application/vnd.google.colaboratory.intrinsic+json": {
              "type": "string"
            }
          },
          "metadata": {},
          "execution_count": 6
        }
      ]
    },
    {
      "cell_type": "markdown",
      "source": [
        "## Parte 2\n",
        "\n",
        "Agora vou extrair as opiniões dos tópicos de cada partida"
      ],
      "metadata": {
        "id": "KW1qfzr8rI6E"
      }
    },
    {
      "cell_type": "markdown",
      "source": [
        "Primeiramente, preciso pegar o todas as urls das páginas de cada tópico de pós-jogo, pois tem tópicos em mais páginas. Para isso, segue o exemplo:"
      ],
      "metadata": {
        "id": "rQLSnlbpt-Vs"
      }
    },
    {
      "cell_type": "code",
      "source": [
        "response = requests.get( 'http://www.forumptd.com/index.php?/topic/132503-palmeiras-x-fluminense-p%C3%B3s-jogo/' , headers=headers)\n",
        "soup = BeautifulSoup(response.text, \"html.parser\")\n",
        "urls = soup.find_all('li',{'class':'ipsPagination_page'}) #aqui estão as URLS"
      ],
      "metadata": {
        "id": "advaaZ-0rIPQ"
      },
      "execution_count": 7,
      "outputs": []
    },
    {
      "cell_type": "markdown",
      "source": [
        "Pórem, percebi que temos dois blocos repetidos de urls, por isso vou percorrer somente um desses blocos."
      ],
      "metadata": {
        "id": "xwPiIowjuZUf"
      }
    },
    {
      "cell_type": "code",
      "source": [
        "#mostrar as urls\n",
        "for i in range(int(len(urls)/2)):\n",
        "    print([a['href'] for a in urls[i].find_all('a', href=True)])"
      ],
      "metadata": {
        "colab": {
          "base_uri": "https://localhost:8080/"
        },
        "id": "C4ZoWpLtsMaf",
        "outputId": "4622f5c5-73a8-4ae3-b13f-24372183dd35"
      },
      "execution_count": 8,
      "outputs": [
        {
          "output_type": "stream",
          "name": "stdout",
          "text": [
            "['http://www.forumptd.com/index.php?/topic/132503-palmeiras-x-fluminense-p%C3%B3s-jogo/#comments']\n",
            "['http://www.forumptd.com/index.php?/topic/132503-palmeiras-x-fluminense-p%C3%B3s-jogo/page/2/#comments']\n",
            "['http://www.forumptd.com/index.php?/topic/132503-palmeiras-x-fluminense-p%C3%B3s-jogo/page/3/#comments']\n",
            "['http://www.forumptd.com/index.php?/topic/132503-palmeiras-x-fluminense-p%C3%B3s-jogo/page/4/#comments']\n",
            "['http://www.forumptd.com/index.php?/topic/132503-palmeiras-x-fluminense-p%C3%B3s-jogo/page/5/#comments']\n",
            "['http://www.forumptd.com/index.php?/topic/132503-palmeiras-x-fluminense-p%C3%B3s-jogo/page/6/#comments']\n"
          ]
        }
      ]
    },
    {
      "cell_type": "markdown",
      "source": [
        "Agora, partindo para extrair as opiniões de cada página de cada pós jogo, segue o exemplo:"
      ],
      "metadata": {
        "id": "ai1vwjQ2ulED"
      }
    },
    {
      "cell_type": "code",
      "source": [
        "response = requests.get('http://www.forumptd.com/index.php?/topic/131668-palmeiras-x-corinthians-p%C3%B3s-jogo/' , headers=headers)\n",
        "soup = BeautifulSoup(response.text, \"html.parser\")\n",
        "opns = soup.find('script', type='application/ld+json') #elas estão em um json"
      ],
      "metadata": {
        "id": "hw9szXXossdb"
      },
      "execution_count": 9,
      "outputs": []
    },
    {
      "cell_type": "code",
      "source": [
        "import json #vou usar um json para acessar então\n",
        "if opns:\n",
        "    json_data = json.loads(opns.string)\n",
        "    print(json_data)"
      ],
      "metadata": {
        "colab": {
          "base_uri": "https://localhost:8080/"
        },
        "id": "xyLRJk4ksmiE",
        "outputId": "7489594b-93b0-4b35-fcd7-f51554f7bceb"
      },
      "execution_count": 10,
      "outputs": [
        {
          "output_type": "stream",
          "name": "stdout",
          "text": [
            "{'name': 'Palmeiras x Corinthians - Pós-jogo', 'headline': 'Palmeiras x Corinthians - Pós-jogo', 'text': 'Comente\\xa0aqui:\\n \\n\\n\\n\\t- Atuação do\\xa0time + atuações individuais \\n\\t- Atuação do técnico \\n\\t- Atuação da arbitragem\\n \\n\\n\\n\\tO tópico será aberto às 21h52 e será\\xa0fechado 1 hora antes do próximo jogo (18h00 de 04/7).\\n ', 'dateCreated': '2024-07-01T15:31:04+0000', 'datePublished': '2024-07-01T15:31:04+0000', 'pageStart': 1, 'pageEnd': 9, 'image': 'http://www.forumptd.com/uploads/monthly_2019_03/menor.thumb.jpg.b20ebb50ae8cc43b0b07b72eff926ef4.jpg', 'author': {'url': 'http://www.forumptd.com/index.php?/profile/2-eduardo-luiz/'}, 'interactionStatistic': [{'@type': 'InteractionCounter', 'interactionType': 'http://schema.org/ViewAction', 'userInteractionCount': 6874}, {'@type': 'InteractionCounter', 'interactionType': 'http://schema.org/CommentAction', 'userInteractionCount': 128}, {'@type': 'InteractionCounter', 'interactionType': 'http://schema.org/FollowAction', 'userInteractionCount': 42}], '@context': 'http://schema.org', '@type': 'DiscussionForumPosting', '@id': 'http://www.forumptd.com/index.php?/topic/131668-palmeiras-x-corinthians-p%C3%B3s-jogo/', 'isPartOf': {'@id': 'http://www.forumptd.com/#website'}, 'url': 'http://www.forumptd.com/index.php?/topic/131668-palmeiras-x-corinthians-p%C3%B3s-jogo/', 'discussionUrl': 'http://www.forumptd.com/index.php?/topic/131668-palmeiras-x-corinthians-p%C3%B3s-jogo/', 'comment': [{'@type': 'Comment', '@id': 'http://www.forumptd.com/index.php?/topic/131668-palmeiras-x-corinthians-p%C3%B3s-jogo/#comment-4263942', 'url': 'http://www.forumptd.com/index.php?/topic/131668-palmeiras-x-corinthians-p%C3%B3s-jogo/#comment-4263942', 'author': {'@type': 'Person', 'name': 'Eduardo Luiz', 'image': 'http://www.forumptd.com/uploads/monthly_2019_03/menor.thumb.jpg.b20ebb50ae8cc43b0b07b72eff926ef4.jpg', 'url': 'http://www.forumptd.com/index.php?/profile/2-eduardo-luiz/'}, 'dateCreated': '2024-07-01T15:31:04+0000', 'text': 'Comente\\xa0aqui:\\n \\n\\n\\n\\t- Atuação do\\xa0time + atuações individuais \\n\\t- Atuação do técnico \\n\\t- Atuação da arbitragem\\n \\n\\n\\n\\tO tópico será aberto às 21h52 e será\\xa0fechado 1 hora antes do próximo jogo (18h00 de 04/7).\\n '}, {'@type': 'Comment', '@id': 'http://www.forumptd.com/index.php?/topic/131668-palmeiras-x-corinthians-p%C3%B3s-jogo/#comment-4264094', 'url': 'http://www.forumptd.com/index.php?/topic/131668-palmeiras-x-corinthians-p%C3%B3s-jogo/#comment-4264094', 'author': {'@type': 'Person', 'name': 'LouvaDeus', 'image': 'http://www.forumptd.com/uploads/monthly_2024_08/578012557_images2.thumb.jpeg.a1068fd814029a14e9b60df1f3260d88.jpeg', 'url': 'http://www.forumptd.com/index.php?/profile/444283-divino10/'}, 'dateCreated': '2024-07-02T00:54:24+0000', 'text': 'Avanti Palestra!!!!!!!!!\\n \\n\\n\\n\\t💚🐷🐽\\n '}, {'@type': 'Comment', '@id': 'http://www.forumptd.com/index.php?/topic/131668-palmeiras-x-corinthians-p%C3%B3s-jogo/#comment-4264095', 'url': 'http://www.forumptd.com/index.php?/topic/131668-palmeiras-x-corinthians-p%C3%B3s-jogo/#comment-4264095', 'author': {'@type': 'Person', 'name': 'FabioHenrique', 'image': 'http://www.forumptd.com/uploads/monthly_2017_09/E105AA53-A61E-4783-A2EC-4048DA3008FC.thumb.jpeg.b8b3ad6d79ca7710e0f49b112440508b.jpeg', 'url': 'http://www.forumptd.com/index.php?/profile/472561-fabiohenrique/'}, 'dateCreated': '2024-07-02T00:55:23+0000', 'text': 'Terminamos o jogo com 3 laterais direitos e 2 esquerdos em campo!\\n \\n\\n\\n\\tRecorde batido.\\n \\n\\n\\n\\tGyai chegando!\\n \\n\\n\\n\\t😂\\n \\n\\n\\n\\t\\xa0\\n \\n\\n\\n\\t3 pontos, afundamos os lixos na lama!\\n \\n\\n\\n\\tAvanti!!’\\n '}, {'@type': 'Comment', '@id': 'http://www.forumptd.com/index.php?/topic/131668-palmeiras-x-corinthians-p%C3%B3s-jogo/#comment-4264096', 'url': 'http://www.forumptd.com/index.php?/topic/131668-palmeiras-x-corinthians-p%C3%B3s-jogo/#comment-4264096', 'author': {'@type': 'Person', 'name': 'Fercas', 'image': 'http://www.forumptd.com/uploads/monthly_2017_08/d.thumb.jpg.2fca48b495d47727c44d42dd408e3aa8.jpg', 'url': 'http://www.forumptd.com/index.php?/profile/652-fercas/'}, 'dateCreated': '2024-07-02T01:00:07+0000', 'text': 'Clássico não se joga, se ganha.\\n \\n\\n\\n\\tMais 3 pontos pra conta!\\n \\n\\n\\n\\tA molecada deu conta do recado, Naves e Vitor Reis, foram bem demais!\\n \\n\\n\\n\\tChupa gambazada maldita!\\n \\n\\n\\n\\t🐷👊🏻\\n '}, {'@type': 'Comment', '@id': 'http://www.forumptd.com/index.php?/topic/131668-palmeiras-x-corinthians-p%C3%B3s-jogo/#comment-4264097', 'url': 'http://www.forumptd.com/index.php?/topic/131668-palmeiras-x-corinthians-p%C3%B3s-jogo/#comment-4264097', 'author': {'@type': 'Person', 'name': 'FabioHenrique', 'image': 'http://www.forumptd.com/uploads/monthly_2017_09/E105AA53-A61E-4783-A2EC-4048DA3008FC.thumb.jpeg.b8b3ad6d79ca7710e0f49b112440508b.jpeg', 'url': 'http://www.forumptd.com/index.php?/profile/472561-fabiohenrique/'}, 'dateCreated': '2024-07-02T01:01:16+0000', 'text': 'Partidaca do Vitor e do Naves!\\n '}, {'@type': 'Comment', '@id': 'http://www.forumptd.com/index.php?/topic/131668-palmeiras-x-corinthians-p%C3%B3s-jogo/#comment-4264098', 'url': 'http://www.forumptd.com/index.php?/topic/131668-palmeiras-x-corinthians-p%C3%B3s-jogo/#comment-4264098', 'author': {'@type': 'Person', 'name': 'Felipe_Vicentim ', 'image': 'http://www.forumptd.com/uploads/monthly_2018_02/images.thumb.jpeg.cd94c8b2d4d1fe3bca29ee011a1b6884.jpeg', 'url': 'http://www.forumptd.com/index.php?/profile/168418-felipe_vicentim/'}, 'dateCreated': '2024-07-02T01:01:45+0000', 'text': 'JP Sampaio, vc é o cara! Que base maravilhosa! Que molecada firme! Vitor Reis estrear com gol e uma bela partida. Teve até dobra dupla de lateral e lateral (mais) improvisado! E o Veiga foi expulso, poderia comprometer, mas acho que eu faria o mesmo. Ninguém bota dedo na cara dos meus!\\xa0\\n '}, {'@type': 'Comment', '@id': 'http://www.forumptd.com/index.php?/topic/131668-palmeiras-x-corinthians-p%C3%B3s-jogo/#comment-4264099', 'url': 'http://www.forumptd.com/index.php?/topic/131668-palmeiras-x-corinthians-p%C3%B3s-jogo/#comment-4264099', 'author': {'@type': 'Person', 'name': 'Bruno_Palestra', 'image': 'http://www.forumptd.com/uploads/monthly_2024_06/59a60a72d870cad5b2af324b654aab73.thumb.jpg.2753754be42bda2e70962b4197073c42.jpg', 'url': 'http://www.forumptd.com/index.php?/profile/413429-bruno_palestra/'}, 'dateCreated': '2024-07-02T01:01:49+0000', 'text': 'Afundou essa praga de time da marginal sem número.\\n \\n\\n\\n\\tIsso é o que interessa!\\n \\n\\n\\n\\t\\xa0\\n '}, {'@type': 'Comment', '@id': 'http://www.forumptd.com/index.php?/topic/131668-palmeiras-x-corinthians-p%C3%B3s-jogo/#comment-4264100', 'url': 'http://www.forumptd.com/index.php?/topic/131668-palmeiras-x-corinthians-p%C3%B3s-jogo/#comment-4264100', 'author': {'@type': 'Person', 'name': 'Vitor_Palestra', 'image': 'http://www.forumptd.com/uploads/monthly_2019_09/images.thumb.png.dc2bd8d9607f7263ef5b54633b76cb98.png', 'url': 'http://www.forumptd.com/index.php?/profile/16062-vitor_palestra/'}, 'dateCreated': '2024-07-02T01:02:28+0000', 'text': 'O sub20 deu conta. Na próxima a gente testa o 17.\\n \\n\\n\\n\\tVitor Reis é fenômeno.\\n '}, {'@type': 'Comment', '@id': 'http://www.forumptd.com/index.php?/topic/131668-palmeiras-x-corinthians-p%C3%B3s-jogo/#comment-4264102', 'url': 'http://www.forumptd.com/index.php?/topic/131668-palmeiras-x-corinthians-p%C3%B3s-jogo/#comment-4264102', 'author': {'@type': 'Person', 'name': 'arqpedro', 'image': 'http://www.forumptd.com/uploads/monthly_2023_02/4D59CE9C-7DFD-4D98-9344-6F8B6E2A7780.thumb.jpeg.06748062dc818d202fb65e7bbad8822c.jpeg', 'url': 'http://www.forumptd.com/index.php?/profile/417010-arqpedro/'}, 'dateCreated': '2024-07-02T01:02:43+0000', 'text': '10 pra todo mundo e 11 pro Veiga.\\n '}, {'@type': 'Comment', '@id': 'http://www.forumptd.com/index.php?/topic/131668-palmeiras-x-corinthians-p%C3%B3s-jogo/#comment-4264103', 'url': 'http://www.forumptd.com/index.php?/topic/131668-palmeiras-x-corinthians-p%C3%B3s-jogo/#comment-4264103', 'author': {'@type': 'Person', 'name': 'Jean.Pazim', 'image': 'http://www.forumptd.com/uploads/monthly_2023_06/969587311_IMG_20230110_114330_953-compress1(1).thumb.jpg.75258d4c8ddb9ffbf461c1f477b1fa36.jpg', 'url': 'http://www.forumptd.com/index.php?/profile/30506-jeanpazim/'}, 'dateCreated': '2024-07-02T01:02:46+0000', 'text': 'Freguês bom é freguês FIEL...\\n \\n\\n\\n\\t\\xa0\\n \\n\\n\\n\\t10 pra todo mundo menos pro Gabriel Menino, isso aí nem jogador de futebol é, vsf.\\n '}, {'@type': 'Comment', '@id': 'http://www.forumptd.com/index.php?/topic/131668-palmeiras-x-corinthians-p%C3%B3s-jogo/#comment-4264104', 'url': 'http://www.forumptd.com/index.php?/topic/131668-palmeiras-x-corinthians-p%C3%B3s-jogo/#comment-4264104', 'author': {'@type': 'Person', 'name': 'DoLLarS_VerDãO', 'image': 'http://www.forumptd.com/uploads/monthly_2024_08/8642c2e004eba864e81e10ddb73d19661fc9b9b9r1-657-657v2_uhq.thumb.jpg.09328e358290b77fcc7d15ce3460307d.jpg', 'url': 'http://www.forumptd.com/index.php?/profile/173102-dollars_verd%C3%A3o/'}, 'dateCreated': '2024-07-02T01:02:48+0000', 'text': 'primeiro temo horrivel, segundo tempo melhoramos,\\n \\n\\n\\n\\tvitoria 3 pontos e colocando pressão nas gambas no z4 NOITE BOA DEMAIS.\\n \\n\\n\\n\\t\\xa0\\n \\n\\n\\n\\tVITOR REIS E NAVES MUITO BEM, so o ROCHA NO PRIMEIRO TEMPO TENTANDO ENTREGAR.\\n \\n\\n\\n\\tDE RESTO ÓTIMO\\n '}, {'@type': 'Comment', '@id': 'http://www.forumptd.com/index.php?/topic/131668-palmeiras-x-corinthians-p%C3%B3s-jogo/#comment-4264105', 'url': 'http://www.forumptd.com/index.php?/topic/131668-palmeiras-x-corinthians-p%C3%B3s-jogo/#comment-4264105', 'author': {'@type': 'Person', 'name': 'Monteiro', 'image': 'http://www.forumptd.com/uploads/monthly_2022_11/1.thumb.JPG.be9f26be0f35230c2e8d232a7edc5488.JPG', 'url': 'http://www.forumptd.com/index.php?/profile/435697-monteiro/'}, 'dateCreated': '2024-07-02T01:03:06+0000', 'text': 'Jogo muito fraco no geral.\\n \\n\\n\\n\\tVeiga garoto demais, mais um desfalque pro time ja todo rebentado.\\n '}, {'@type': 'Comment', '@id': 'http://www.forumptd.com/index.php?/topic/131668-palmeiras-x-corinthians-p%C3%B3s-jogo/#comment-4264106', 'url': 'http://www.forumptd.com/index.php?/topic/131668-palmeiras-x-corinthians-p%C3%B3s-jogo/#comment-4264106', 'author': {'@type': 'Person', 'name': 'Ceccatto', 'image': 'http://www.forumptd.com/uploads/monthly_2024_11/530430614_valdivia-pagina-de-craques(1).thumb.png.c2984879af02fe4d496f142d7c102a8a.png', 'url': 'http://www.forumptd.com/index.php?/profile/285148-ceccatto/'}, 'dateCreated': '2024-07-02T01:03:20+0000', 'text': 'Chupa timeco, lixos!\\xa0\\n \\n\\n\\n\\t10 pra todos, menos pro Menino e Rocha!\\xa0\\n '}, {'@type': 'Comment', '@id': 'http://www.forumptd.com/index.php?/topic/131668-palmeiras-x-corinthians-p%C3%B3s-jogo/#comment-4264109', 'url': 'http://www.forumptd.com/index.php?/topic/131668-palmeiras-x-corinthians-p%C3%B3s-jogo/#comment-4264109', 'author': {'@type': 'Person', 'name': 'Sergio Jundiai', 'image': 'http://www.forumptd.com/uploads/monthly_2024_01/brand_parmalat.thumb.jpg.f0bacf715528fdcf2e535da92c451b3e.jpg', 'url': 'http://www.forumptd.com/index.php?/profile/439930-sergio-jundiai/'}, 'dateCreated': '2024-07-02T01:03:52+0000', 'text': 'Sabe de nada inocente, tá ai o motivo! KKKKKKK\\n \\n\\n\\n\\tAbel Fernando Moreira Ferreira (Penafiel, 22 de dezembro de 1978) é um treinador e ex-futebolista português que atuava como\\xa0lateral-direito.\\n '}, {'@type': 'Comment', '@id': 'http://www.forumptd.com/index.php?/topic/131668-palmeiras-x-corinthians-p%C3%B3s-jogo/#comment-4264110', 'url': 'http://www.forumptd.com/index.php?/topic/131668-palmeiras-x-corinthians-p%C3%B3s-jogo/#comment-4264110', 'author': {'@type': 'Person', 'name': 'WAGA', 'image': 'http://www.forumptd.com/uploads/monthly_2024_05/IMG_4013.thumb.png.caf1ab356ec3134ce334b0d60ba0d6b4.png', 'url': 'http://www.forumptd.com/index.php?/profile/485-waga/'}, 'dateCreated': '2024-07-02T01:03:54+0000', 'text': 'Veiga fez uma partidaça, mas foi juvenil na expulsão.\\n \\n\\n\\n\\tFlaco perdeu um gol absurdo aos 44’.\\n '}]}\n"
          ]
        }
      ]
    },
    {
      "cell_type": "code",
      "source": [
        "from datetime import datetime\n",
        "\n",
        "#já vi que vou ter que limpar o texto que está em html\n",
        "\n",
        "import html\n",
        "import re\n",
        "\n",
        "def limpar(string):\n",
        "    string = html.unescape(string)\n",
        "    string = re.sub(r'[\\n\\t]+', ' ', string)\n",
        "    string = re.sub(r'\\s+', ' ', string).strip()\n",
        "    return string\n",
        "\n",
        "#Além disso, vou substituir algumas abreviações para facilitar a análise\n",
        "ab = {\n",
        "    'pal': 'palmeiras',\n",
        "    \"q\": \"que\",\n",
        "    \"n\": \"não\",\n",
        "    \"vc\": \"você\",\n",
        "    \"tb\": \"também\",\n",
        "    \"pq\": \"porque\",\n",
        "    \"td\": \"tudo\",\n",
        "    \"dps\": \"depois\",\n",
        "    \"mlk\": \"menino\",\n",
        "    \"qdo\": \"quando\",\n",
        "    \"pq\": \"porque\",\n",
        "    \"vdd\": \"verdade\",\n",
        "    \"qnt\": \"quanto\",\n",
        "    \"blz\": \"beleza\",\n",
        "    \"pf\": \"por favor\",\n",
        "}\n",
        "\n",
        "def abrev(texto):\n",
        "    for gíria, correção in ab.items():\n",
        "        texto = re.sub(rf\"\\b{gíria}\\b\", correção, texto, flags=re.IGNORECASE)\n",
        "    return texto"
      ],
      "metadata": {
        "id": "zwFGE2HUtDTy"
      },
      "execution_count": 11,
      "outputs": []
    },
    {
      "cell_type": "code",
      "source": [
        "aa = [] #salvar as opiniões\n",
        "bb = [] #salvar a data\n",
        "for i in range(len(json_data['comment'])):\n",
        "    texto_limpo = limpar(json_data['comment'][i]['text'])\n",
        "    texto_limpo = abrev(texto_limpo)\n",
        "    aa.append(texto_limpo)\n",
        "    data = datetime.strptime(json_data['comment'][re.I]['dateCreated'], \"%Y-%m-%dT%H:%M:%S%z\")\n",
        "    data_formatada = data.strftime(\"%m/%Y\")\n",
        "    bb.append(data_formatada)"
      ],
      "metadata": {
        "id": "Qy8ncLO1sm99"
      },
      "execution_count": 12,
      "outputs": []
    },
    {
      "cell_type": "code",
      "source": [
        "aa"
      ],
      "metadata": {
        "colab": {
          "base_uri": "https://localhost:8080/"
        },
        "id": "1XrM22BhsnKj",
        "outputId": "e7740e84-c212-487f-f4b9-693e3578fdde"
      },
      "execution_count": null,
      "outputs": [
        {
          "output_type": "execute_result",
          "data": {
            "text/plain": [
              "['Comente aqui: - Atuação do time + atuações individuais - Atuação do técnico - Atuação da arbitragem O tópico será aberto às 21h52 e será fechado 1 hora antes do próximo jogo (18h00 de 04/7).',\n",
              " 'Avanti Palestra!!!!!!!!! 💚🐷🐽',\n",
              " 'Terminamos o jogo com 3 laterais direitos e 2 esquerdos em campo! Recorde batido. Gyai chegando! 😂 3 pontos, afundamos os lixos na lama! Avanti!!’',\n",
              " 'Clássico não se joga, se ganha. Mais 3 pontos pra conta! A molecada deu conta do recado, Naves e Vitor Reis, foram bem demais! Chupa gambazada maldita! 🐷👊🏻',\n",
              " 'Partidaca do Vitor e do Naves!',\n",
              " 'JP Sampaio, você é o cara! Que base maravilhosa! Que molecada firme! Vitor Reis estrear com gol e uma bela partida. Teve até dobra dupla de lateral e lateral (mais) improvisado! E o Veiga foi expulso, poderia comprometer, mas acho que eu faria o mesmo. Ninguém bota dedo na cara dos meus!',\n",
              " 'Afundou essa praga de time da marginal sem número. Isso é o que interessa!',\n",
              " 'O sub20 deu conta. Na próxima a gente testa o 17. Vitor Reis é fenômeno.',\n",
              " '10 pra todo mundo e 11 pro Veiga.',\n",
              " 'Freguês bom é freguês FIEL... 10 pra todo mundo menos pro Gabriel Menino, isso aí nem jogador de futebol é, vsf.',\n",
              " 'primeiro temo horrivel, segundo tempo melhoramos, vitoria 3 pontos e colocando pressão nas gambas no z4 NOITE BOA DEMAIS. VITOR REIS E NAVES MUITO BEM, so o ROCHA NO PRIMEIRO TEMPO TENTANDO ENTREGAR. DE RESTO ÓTIMO',\n",
              " 'Jogo muito fraco no geral. Veiga garoto demais, mais um desfalque pro time ja todo rebentado.',\n",
              " 'Chupa timeco, lixos! 10 pra todos, menos pro Menino e Rocha!',\n",
              " 'Sabe de nada inocente, tá ai o motivo! KKKKKKK Abel Fernando Moreira Ferreira (Penafiel, 22 de dezembro de 1978) é um treinador e ex-futebolista português que atuava como lateral-direito.',\n",
              " 'Veiga fez uma partidaça, mas foi juvenil na expulsão. Flaco perdeu um gol absurdo aos 44’.']"
            ]
          },
          "metadata": {},
          "execution_count": 92
        }
      ]
    },
    {
      "cell_type": "markdown",
      "source": [
        "## Parte 3\n",
        "\n",
        "Agora sim, vou fazer um laço para salvar tudo de uma vez em alguns arquivos json."
      ],
      "metadata": {
        "id": "itkxelsLwXy7"
      }
    },
    {
      "cell_type": "code",
      "source": [
        "urls_tot = []\n",
        "for i in links_fitrados:\n",
        "    #pegara as urls\n",
        "    response = requests.get(i, headers=headers)\n",
        "    soup = BeautifulSoup(response.text, \"html.parser\")\n",
        "    urls = soup.find_all('li',{'class':'ipsPagination_page'})\n",
        "    tempo_espera = random.uniform(0, 0.01) #não ser banido\n",
        "    time.sleep(tempo_espera)\n",
        "    urls_pag = []\n",
        "    for j in range(int(len(urls)/2)):\n",
        "        #pegar as urls das páginas\n",
        "        urls_pag.append([a['href'] for a in urls[j].find_all('a', href=True)])\n",
        "    urls_tot.append(urls_pag)"
      ],
      "metadata": {
        "id": "AKuyE3HpwXH9"
      },
      "execution_count": 13,
      "outputs": []
    },
    {
      "cell_type": "markdown",
      "source": [
        "Certo, agora tenho uma lista com todas as urls necessárias."
      ],
      "metadata": {
        "id": "8aptI63U0F1-"
      }
    },
    {
      "cell_type": "code",
      "source": [
        "jogos_all = [] #vou aproveitar e guardar o nome dos jogos\n",
        "jogos_dir = [] #e o diretório\n",
        "jogos_data = [] #e a data\n",
        "for jj in range(len(urls_tot)):\n",
        "    dic = {}\n",
        "    aa = [] #salvar as opiniões\n",
        "    for i in range(len(urls_tot[jj])):\n",
        "        response = requests.get(urls_tot[jj][i][0] , headers=headers)\n",
        "        soup = BeautifulSoup(response.text, \"html.parser\")\n",
        "        opns = soup.find('script', type='application/ld+json') #elas estão em um json\n",
        "        tempo_espera = random.uniform(0, 0.01) #não ser banido\n",
        "        time.sleep(tempo_espera)\n",
        "        if opns:\n",
        "            json_data = json.loads(opns.string)\n",
        "        for i in range(len(json_data['comment'])):\n",
        "            texto_limpo = limpar(json_data['comment'][i]['text'])\n",
        "            texto_limpo = abrev(texto_limpo)\n",
        "            aa.append(texto_limpo)\n",
        "            try:\n",
        "                data = datetime.strptime(json_data['comment'][re.I]['dateCreated'], \"%Y-%m-%dT%H:%M:%S%z\")\n",
        "            except:\n",
        "                pass\n",
        "            data_formatada = data.strftime(\"%m/%Y\")\n",
        "    ##salvar o id dos jogos\n",
        "    import urllib.parse\n",
        "    s = urls_tot[jj][0][0]\n",
        "    partes = s.split('-')\n",
        "    ss = '-'.join(partes[1:4])\n",
        "    data_formatada = data_formatada.replace('/', '')\n",
        "    game =  ss + '-' + data_formatada\n",
        "    game = urllib.parse.unquote(game)\n",
        "    jogos_all.append(game)\n",
        "    jogos_dir.append(game + '.json')\n",
        "    jogos_data.append(data_formatada)\n",
        "    dic['jogo'] = game\n",
        "    dic['data'] = data_formatada #tirar a barra para não dar conflito de diretótio\n",
        "    dic['opinioes'] = aa[1:] #tirar o início do tópico\n",
        "    with open(game + '.json', 'w') as arquivo: #salvar em json\n",
        "        json.dump(dic, arquivo, indent=4)"
      ],
      "metadata": {
        "id": "xo5Ipn3c03rM"
      },
      "execution_count": 16,
      "outputs": []
    },
    {
      "cell_type": "markdown",
      "source": [
        "## Parte 4\n",
        "\n",
        "Agora, irei fazer uma análise de sentimento das opiniões dos torcedores em cada partida a fim de quantificar o contentamento ou descontentamento com a partida em questão. Para isso, usarei o pacote LeIA, uma adaptação do pacote VADER, com adaptação para textos em português. A análise atribui uma nota de -1 a 1, que quanto mais próximo de 1 o sentimento é positivo, e negativo ao aproximar de -1.\n",
        "\n",
        "A ideia é calcular esse valor para cada comentário e calcular a média deles para quantificar o contentamento em cada um dos jogos.\n",
        "\n",
        "Por fim, iremos verificar quais jogos foram os \"melhores\" de acordo com a torcida, além dos piores. Ainda, iremos plotar um gráfico de linhas com o valor das métricas em ordem cronológica ao longo do ano para visualizar o comportamento."
      ],
      "metadata": {
        "id": "LlbsDhFX-rg3"
      }
    },
    {
      "cell_type": "code",
      "source": [
        "import pandas as pd\n",
        "data = pd.DataFrame({'jogo': jogos_all, 'diretorio': jogos_dir, 'data': jogos_data})\n",
        "#tirar a primeira linha que está duplicada\n",
        "data = data.drop(index=0).reset_index(drop=True)"
      ],
      "metadata": {
        "id": "qNGQ_W2HXld0"
      },
      "execution_count": 23,
      "outputs": []
    },
    {
      "cell_type": "code",
      "source": [
        "data"
      ],
      "metadata": {
        "colab": {
          "base_uri": "https://localhost:8080/",
          "height": 424
        },
        "id": "W9wcQcItZ8ie",
        "outputId": "4335adb5-35e9-4995-bf53-8ac5af906a91"
      },
      "execution_count": 24,
      "outputs": [
        {
          "output_type": "execute_result",
          "data": {
            "text/plain": [
              "                              jogo                            diretorio  \\\n",
              "0    palmeiras-x-fluminense-122024   palmeiras-x-fluminense-122024.json   \n",
              "1      cruzeiro-x-palmeiras-122024     cruzeiro-x-palmeiras-122024.json   \n",
              "2      palmeiras-x-botafogo-112024     palmeiras-x-botafogo-112024.json   \n",
              "3             atlético-go-x-112024            atlético-go-x-112024.json   \n",
              "4         bahia-x-palmeiras-112024        bahia-x-palmeiras-112024.json   \n",
              "..                             ...                                  ...   \n",
              "56     palmeiras-x-mirassol-022024     palmeiras-x-mirassol-022024.json   \n",
              "57  palmeiras-x-corinthians-022024  palmeiras-x-corinthians-022024.json   \n",
              "58           são-bernardo-x-022024           são-bernardo-x-022024.json   \n",
              "59       palmeiras-x-ituano-022024       palmeiras-x-ituano-022024.json   \n",
              "60          palmeiras-x-são-022024          palmeiras-x-são-022024.json   \n",
              "\n",
              "      data  \n",
              "0   122024  \n",
              "1   122024  \n",
              "2   112024  \n",
              "3   112024  \n",
              "4   112024  \n",
              "..     ...  \n",
              "56  022024  \n",
              "57  022024  \n",
              "58  022024  \n",
              "59  022024  \n",
              "60  022024  \n",
              "\n",
              "[61 rows x 3 columns]"
            ],
            "text/html": [
              "\n",
              "  <div id=\"df-e7dad072-50ae-452c-b270-0abc407fa14f\" class=\"colab-df-container\">\n",
              "    <div>\n",
              "<style scoped>\n",
              "    .dataframe tbody tr th:only-of-type {\n",
              "        vertical-align: middle;\n",
              "    }\n",
              "\n",
              "    .dataframe tbody tr th {\n",
              "        vertical-align: top;\n",
              "    }\n",
              "\n",
              "    .dataframe thead th {\n",
              "        text-align: right;\n",
              "    }\n",
              "</style>\n",
              "<table border=\"1\" class=\"dataframe\">\n",
              "  <thead>\n",
              "    <tr style=\"text-align: right;\">\n",
              "      <th></th>\n",
              "      <th>jogo</th>\n",
              "      <th>diretorio</th>\n",
              "      <th>data</th>\n",
              "    </tr>\n",
              "  </thead>\n",
              "  <tbody>\n",
              "    <tr>\n",
              "      <th>0</th>\n",
              "      <td>palmeiras-x-fluminense-122024</td>\n",
              "      <td>palmeiras-x-fluminense-122024.json</td>\n",
              "      <td>122024</td>\n",
              "    </tr>\n",
              "    <tr>\n",
              "      <th>1</th>\n",
              "      <td>cruzeiro-x-palmeiras-122024</td>\n",
              "      <td>cruzeiro-x-palmeiras-122024.json</td>\n",
              "      <td>122024</td>\n",
              "    </tr>\n",
              "    <tr>\n",
              "      <th>2</th>\n",
              "      <td>palmeiras-x-botafogo-112024</td>\n",
              "      <td>palmeiras-x-botafogo-112024.json</td>\n",
              "      <td>112024</td>\n",
              "    </tr>\n",
              "    <tr>\n",
              "      <th>3</th>\n",
              "      <td>atlético-go-x-112024</td>\n",
              "      <td>atlético-go-x-112024.json</td>\n",
              "      <td>112024</td>\n",
              "    </tr>\n",
              "    <tr>\n",
              "      <th>4</th>\n",
              "      <td>bahia-x-palmeiras-112024</td>\n",
              "      <td>bahia-x-palmeiras-112024.json</td>\n",
              "      <td>112024</td>\n",
              "    </tr>\n",
              "    <tr>\n",
              "      <th>...</th>\n",
              "      <td>...</td>\n",
              "      <td>...</td>\n",
              "      <td>...</td>\n",
              "    </tr>\n",
              "    <tr>\n",
              "      <th>56</th>\n",
              "      <td>palmeiras-x-mirassol-022024</td>\n",
              "      <td>palmeiras-x-mirassol-022024.json</td>\n",
              "      <td>022024</td>\n",
              "    </tr>\n",
              "    <tr>\n",
              "      <th>57</th>\n",
              "      <td>palmeiras-x-corinthians-022024</td>\n",
              "      <td>palmeiras-x-corinthians-022024.json</td>\n",
              "      <td>022024</td>\n",
              "    </tr>\n",
              "    <tr>\n",
              "      <th>58</th>\n",
              "      <td>são-bernardo-x-022024</td>\n",
              "      <td>são-bernardo-x-022024.json</td>\n",
              "      <td>022024</td>\n",
              "    </tr>\n",
              "    <tr>\n",
              "      <th>59</th>\n",
              "      <td>palmeiras-x-ituano-022024</td>\n",
              "      <td>palmeiras-x-ituano-022024.json</td>\n",
              "      <td>022024</td>\n",
              "    </tr>\n",
              "    <tr>\n",
              "      <th>60</th>\n",
              "      <td>palmeiras-x-são-022024</td>\n",
              "      <td>palmeiras-x-são-022024.json</td>\n",
              "      <td>022024</td>\n",
              "    </tr>\n",
              "  </tbody>\n",
              "</table>\n",
              "<p>61 rows × 3 columns</p>\n",
              "</div>\n",
              "    <div class=\"colab-df-buttons\">\n",
              "\n",
              "  <div class=\"colab-df-container\">\n",
              "    <button class=\"colab-df-convert\" onclick=\"convertToInteractive('df-e7dad072-50ae-452c-b270-0abc407fa14f')\"\n",
              "            title=\"Convert this dataframe to an interactive table.\"\n",
              "            style=\"display:none;\">\n",
              "\n",
              "  <svg xmlns=\"http://www.w3.org/2000/svg\" height=\"24px\" viewBox=\"0 -960 960 960\">\n",
              "    <path d=\"M120-120v-720h720v720H120Zm60-500h600v-160H180v160Zm220 220h160v-160H400v160Zm0 220h160v-160H400v160ZM180-400h160v-160H180v160Zm440 0h160v-160H620v160ZM180-180h160v-160H180v160Zm440 0h160v-160H620v160Z\"/>\n",
              "  </svg>\n",
              "    </button>\n",
              "\n",
              "  <style>\n",
              "    .colab-df-container {\n",
              "      display:flex;\n",
              "      gap: 12px;\n",
              "    }\n",
              "\n",
              "    .colab-df-convert {\n",
              "      background-color: #E8F0FE;\n",
              "      border: none;\n",
              "      border-radius: 50%;\n",
              "      cursor: pointer;\n",
              "      display: none;\n",
              "      fill: #1967D2;\n",
              "      height: 32px;\n",
              "      padding: 0 0 0 0;\n",
              "      width: 32px;\n",
              "    }\n",
              "\n",
              "    .colab-df-convert:hover {\n",
              "      background-color: #E2EBFA;\n",
              "      box-shadow: 0px 1px 2px rgba(60, 64, 67, 0.3), 0px 1px 3px 1px rgba(60, 64, 67, 0.15);\n",
              "      fill: #174EA6;\n",
              "    }\n",
              "\n",
              "    .colab-df-buttons div {\n",
              "      margin-bottom: 4px;\n",
              "    }\n",
              "\n",
              "    [theme=dark] .colab-df-convert {\n",
              "      background-color: #3B4455;\n",
              "      fill: #D2E3FC;\n",
              "    }\n",
              "\n",
              "    [theme=dark] .colab-df-convert:hover {\n",
              "      background-color: #434B5C;\n",
              "      box-shadow: 0px 1px 3px 1px rgba(0, 0, 0, 0.15);\n",
              "      filter: drop-shadow(0px 1px 2px rgba(0, 0, 0, 0.3));\n",
              "      fill: #FFFFFF;\n",
              "    }\n",
              "  </style>\n",
              "\n",
              "    <script>\n",
              "      const buttonEl =\n",
              "        document.querySelector('#df-e7dad072-50ae-452c-b270-0abc407fa14f button.colab-df-convert');\n",
              "      buttonEl.style.display =\n",
              "        google.colab.kernel.accessAllowed ? 'block' : 'none';\n",
              "\n",
              "      async function convertToInteractive(key) {\n",
              "        const element = document.querySelector('#df-e7dad072-50ae-452c-b270-0abc407fa14f');\n",
              "        const dataTable =\n",
              "          await google.colab.kernel.invokeFunction('convertToInteractive',\n",
              "                                                    [key], {});\n",
              "        if (!dataTable) return;\n",
              "\n",
              "        const docLinkHtml = 'Like what you see? Visit the ' +\n",
              "          '<a target=\"_blank\" href=https://colab.research.google.com/notebooks/data_table.ipynb>data table notebook</a>'\n",
              "          + ' to learn more about interactive tables.';\n",
              "        element.innerHTML = '';\n",
              "        dataTable['output_type'] = 'display_data';\n",
              "        await google.colab.output.renderOutput(dataTable, element);\n",
              "        const docLink = document.createElement('div');\n",
              "        docLink.innerHTML = docLinkHtml;\n",
              "        element.appendChild(docLink);\n",
              "      }\n",
              "    </script>\n",
              "  </div>\n",
              "\n",
              "\n",
              "<div id=\"df-c2a88db2-98e1-454a-8c3f-3d90b34a6123\">\n",
              "  <button class=\"colab-df-quickchart\" onclick=\"quickchart('df-c2a88db2-98e1-454a-8c3f-3d90b34a6123')\"\n",
              "            title=\"Suggest charts\"\n",
              "            style=\"display:none;\">\n",
              "\n",
              "<svg xmlns=\"http://www.w3.org/2000/svg\" height=\"24px\"viewBox=\"0 0 24 24\"\n",
              "     width=\"24px\">\n",
              "    <g>\n",
              "        <path d=\"M19 3H5c-1.1 0-2 .9-2 2v14c0 1.1.9 2 2 2h14c1.1 0 2-.9 2-2V5c0-1.1-.9-2-2-2zM9 17H7v-7h2v7zm4 0h-2V7h2v10zm4 0h-2v-4h2v4z\"/>\n",
              "    </g>\n",
              "</svg>\n",
              "  </button>\n",
              "\n",
              "<style>\n",
              "  .colab-df-quickchart {\n",
              "      --bg-color: #E8F0FE;\n",
              "      --fill-color: #1967D2;\n",
              "      --hover-bg-color: #E2EBFA;\n",
              "      --hover-fill-color: #174EA6;\n",
              "      --disabled-fill-color: #AAA;\n",
              "      --disabled-bg-color: #DDD;\n",
              "  }\n",
              "\n",
              "  [theme=dark] .colab-df-quickchart {\n",
              "      --bg-color: #3B4455;\n",
              "      --fill-color: #D2E3FC;\n",
              "      --hover-bg-color: #434B5C;\n",
              "      --hover-fill-color: #FFFFFF;\n",
              "      --disabled-bg-color: #3B4455;\n",
              "      --disabled-fill-color: #666;\n",
              "  }\n",
              "\n",
              "  .colab-df-quickchart {\n",
              "    background-color: var(--bg-color);\n",
              "    border: none;\n",
              "    border-radius: 50%;\n",
              "    cursor: pointer;\n",
              "    display: none;\n",
              "    fill: var(--fill-color);\n",
              "    height: 32px;\n",
              "    padding: 0;\n",
              "    width: 32px;\n",
              "  }\n",
              "\n",
              "  .colab-df-quickchart:hover {\n",
              "    background-color: var(--hover-bg-color);\n",
              "    box-shadow: 0 1px 2px rgba(60, 64, 67, 0.3), 0 1px 3px 1px rgba(60, 64, 67, 0.15);\n",
              "    fill: var(--button-hover-fill-color);\n",
              "  }\n",
              "\n",
              "  .colab-df-quickchart-complete:disabled,\n",
              "  .colab-df-quickchart-complete:disabled:hover {\n",
              "    background-color: var(--disabled-bg-color);\n",
              "    fill: var(--disabled-fill-color);\n",
              "    box-shadow: none;\n",
              "  }\n",
              "\n",
              "  .colab-df-spinner {\n",
              "    border: 2px solid var(--fill-color);\n",
              "    border-color: transparent;\n",
              "    border-bottom-color: var(--fill-color);\n",
              "    animation:\n",
              "      spin 1s steps(1) infinite;\n",
              "  }\n",
              "\n",
              "  @keyframes spin {\n",
              "    0% {\n",
              "      border-color: transparent;\n",
              "      border-bottom-color: var(--fill-color);\n",
              "      border-left-color: var(--fill-color);\n",
              "    }\n",
              "    20% {\n",
              "      border-color: transparent;\n",
              "      border-left-color: var(--fill-color);\n",
              "      border-top-color: var(--fill-color);\n",
              "    }\n",
              "    30% {\n",
              "      border-color: transparent;\n",
              "      border-left-color: var(--fill-color);\n",
              "      border-top-color: var(--fill-color);\n",
              "      border-right-color: var(--fill-color);\n",
              "    }\n",
              "    40% {\n",
              "      border-color: transparent;\n",
              "      border-right-color: var(--fill-color);\n",
              "      border-top-color: var(--fill-color);\n",
              "    }\n",
              "    60% {\n",
              "      border-color: transparent;\n",
              "      border-right-color: var(--fill-color);\n",
              "    }\n",
              "    80% {\n",
              "      border-color: transparent;\n",
              "      border-right-color: var(--fill-color);\n",
              "      border-bottom-color: var(--fill-color);\n",
              "    }\n",
              "    90% {\n",
              "      border-color: transparent;\n",
              "      border-bottom-color: var(--fill-color);\n",
              "    }\n",
              "  }\n",
              "</style>\n",
              "\n",
              "  <script>\n",
              "    async function quickchart(key) {\n",
              "      const quickchartButtonEl =\n",
              "        document.querySelector('#' + key + ' button');\n",
              "      quickchartButtonEl.disabled = true;  // To prevent multiple clicks.\n",
              "      quickchartButtonEl.classList.add('colab-df-spinner');\n",
              "      try {\n",
              "        const charts = await google.colab.kernel.invokeFunction(\n",
              "            'suggestCharts', [key], {});\n",
              "      } catch (error) {\n",
              "        console.error('Error during call to suggestCharts:', error);\n",
              "      }\n",
              "      quickchartButtonEl.classList.remove('colab-df-spinner');\n",
              "      quickchartButtonEl.classList.add('colab-df-quickchart-complete');\n",
              "    }\n",
              "    (() => {\n",
              "      let quickchartButtonEl =\n",
              "        document.querySelector('#df-c2a88db2-98e1-454a-8c3f-3d90b34a6123 button');\n",
              "      quickchartButtonEl.style.display =\n",
              "        google.colab.kernel.accessAllowed ? 'block' : 'none';\n",
              "    })();\n",
              "  </script>\n",
              "</div>\n",
              "\n",
              "  <div id=\"id_51e090a4-e4b5-4707-9f64-c9050c668036\">\n",
              "    <style>\n",
              "      .colab-df-generate {\n",
              "        background-color: #E8F0FE;\n",
              "        border: none;\n",
              "        border-radius: 50%;\n",
              "        cursor: pointer;\n",
              "        display: none;\n",
              "        fill: #1967D2;\n",
              "        height: 32px;\n",
              "        padding: 0 0 0 0;\n",
              "        width: 32px;\n",
              "      }\n",
              "\n",
              "      .colab-df-generate:hover {\n",
              "        background-color: #E2EBFA;\n",
              "        box-shadow: 0px 1px 2px rgba(60, 64, 67, 0.3), 0px 1px 3px 1px rgba(60, 64, 67, 0.15);\n",
              "        fill: #174EA6;\n",
              "      }\n",
              "\n",
              "      [theme=dark] .colab-df-generate {\n",
              "        background-color: #3B4455;\n",
              "        fill: #D2E3FC;\n",
              "      }\n",
              "\n",
              "      [theme=dark] .colab-df-generate:hover {\n",
              "        background-color: #434B5C;\n",
              "        box-shadow: 0px 1px 3px 1px rgba(0, 0, 0, 0.15);\n",
              "        filter: drop-shadow(0px 1px 2px rgba(0, 0, 0, 0.3));\n",
              "        fill: #FFFFFF;\n",
              "      }\n",
              "    </style>\n",
              "    <button class=\"colab-df-generate\" onclick=\"generateWithVariable('data')\"\n",
              "            title=\"Generate code using this dataframe.\"\n",
              "            style=\"display:none;\">\n",
              "\n",
              "  <svg xmlns=\"http://www.w3.org/2000/svg\" height=\"24px\"viewBox=\"0 0 24 24\"\n",
              "       width=\"24px\">\n",
              "    <path d=\"M7,19H8.4L18.45,9,17,7.55,7,17.6ZM5,21V16.75L18.45,3.32a2,2,0,0,1,2.83,0l1.4,1.43a1.91,1.91,0,0,1,.58,1.4,1.91,1.91,0,0,1-.58,1.4L9.25,21ZM18.45,9,17,7.55Zm-12,3A5.31,5.31,0,0,0,4.9,8.1,5.31,5.31,0,0,0,1,6.5,5.31,5.31,0,0,0,4.9,4.9,5.31,5.31,0,0,0,6.5,1,5.31,5.31,0,0,0,8.1,4.9,5.31,5.31,0,0,0,12,6.5,5.46,5.46,0,0,0,6.5,12Z\"/>\n",
              "  </svg>\n",
              "    </button>\n",
              "    <script>\n",
              "      (() => {\n",
              "      const buttonEl =\n",
              "        document.querySelector('#id_51e090a4-e4b5-4707-9f64-c9050c668036 button.colab-df-generate');\n",
              "      buttonEl.style.display =\n",
              "        google.colab.kernel.accessAllowed ? 'block' : 'none';\n",
              "\n",
              "      buttonEl.onclick = () => {\n",
              "        google.colab.notebook.generateWithVariable('data');\n",
              "      }\n",
              "      })();\n",
              "    </script>\n",
              "  </div>\n",
              "\n",
              "    </div>\n",
              "  </div>\n"
            ],
            "application/vnd.google.colaboratory.intrinsic+json": {
              "type": "dataframe",
              "variable_name": "data",
              "summary": "{\n  \"name\": \"data\",\n  \"rows\": 61,\n  \"fields\": [\n    {\n      \"column\": \"jogo\",\n      \"properties\": {\n        \"dtype\": \"string\",\n        \"num_unique_values\": 60,\n        \"samples\": [\n          \"palmeiras-x-fluminense-122024\",\n          \"palmeiras-x-gr\\u00eamio-112024\",\n          \"palmeiras-x-del-052024\"\n        ],\n        \"semantic_type\": \"\",\n        \"description\": \"\"\n      }\n    },\n    {\n      \"column\": \"diretorio\",\n      \"properties\": {\n        \"dtype\": \"string\",\n        \"num_unique_values\": 60,\n        \"samples\": [\n          \"palmeiras-x-fluminense-122024.json\",\n          \"palmeiras-x-gr\\u00eamio-112024.json\",\n          \"palmeiras-x-del-052024.json\"\n        ],\n        \"semantic_type\": \"\",\n        \"description\": \"\"\n      }\n    },\n    {\n      \"column\": \"data\",\n      \"properties\": {\n        \"dtype\": \"object\",\n        \"num_unique_values\": 11,\n        \"samples\": [\n          \"072024\",\n          \"122024\",\n          \"032024\"\n        ],\n        \"semantic_type\": \"\",\n        \"description\": \"\"\n      }\n    }\n  ]\n}"
            }
          },
          "metadata": {},
          "execution_count": 24
        }
      ]
    },
    {
      "cell_type": "code",
      "source": [
        "pip install LeIA-br"
      ],
      "metadata": {
        "collapsed": true,
        "colab": {
          "base_uri": "https://localhost:8080/"
        },
        "id": "__eltNQA_0vt",
        "outputId": "057d0edd-eb00-457f-9466-f288d163fb29"
      },
      "execution_count": 21,
      "outputs": [
        {
          "output_type": "stream",
          "name": "stdout",
          "text": [
            "Collecting LeIA-br\n",
            "  Downloading leia_br-0.0.1-py2.py3-none-any.whl.metadata (2.9 kB)\n",
            "Requirement already satisfied: requests in /usr/local/lib/python3.10/dist-packages (from LeIA-br) (2.32.3)\n",
            "Requirement already satisfied: charset-normalizer<4,>=2 in /usr/local/lib/python3.10/dist-packages (from requests->LeIA-br) (3.4.0)\n",
            "Requirement already satisfied: idna<4,>=2.5 in /usr/local/lib/python3.10/dist-packages (from requests->LeIA-br) (3.10)\n",
            "Requirement already satisfied: urllib3<3,>=1.21.1 in /usr/local/lib/python3.10/dist-packages (from requests->LeIA-br) (2.2.3)\n",
            "Requirement already satisfied: certifi>=2017.4.17 in /usr/local/lib/python3.10/dist-packages (from requests->LeIA-br) (2024.8.30)\n",
            "Downloading leia_br-0.0.1-py2.py3-none-any.whl (130 kB)\n",
            "\u001b[2K   \u001b[90m━━━━━━━━━━━━━━━━━━━━━━━━━━━━━━━━━━━━━━━━\u001b[0m \u001b[32m130.0/130.0 kB\u001b[0m \u001b[31m6.2 MB/s\u001b[0m eta \u001b[36m0:00:00\u001b[0m\n",
            "\u001b[?25hInstalling collected packages: LeIA-br\n",
            "Successfully installed LeIA-br-0.0.1\n"
          ]
        }
      ]
    },
    {
      "cell_type": "code",
      "source": [
        "from LeIA import SentimentIntensityAnalyzer\n",
        "analyzer = SentimentIntensityAnalyzer()"
      ],
      "metadata": {
        "id": "-vUl6GD8-rCQ"
      },
      "execution_count": 22,
      "outputs": []
    },
    {
      "cell_type": "code",
      "source": [
        "sentimentos = [] #salvar a análise de sentimentos de cada jogo\n",
        "for j in range(data.shape[0]):\n",
        "    compound_score = 0\n",
        "    diretorio = '/content/' + data['diretorio'][j]\n",
        "    with open(diretorio, 'r', encoding='utf-8') as arquivo:\n",
        "        dados = json.load(arquivo)\n",
        "    for i in range(len(dados['opinioes'])):\n",
        "        sentiment = analyzer.polarity_scores(dados['opinioes'][i])\n",
        "        compound_score += sentiment['compound']\n",
        "    sentimentos.append(compound_score/len(dados['opinioes'])) #tirar a média de todas as opiniões"
      ],
      "metadata": {
        "id": "Fl7aZcCUF-hd"
      },
      "execution_count": 27,
      "outputs": []
    },
    {
      "cell_type": "code",
      "source": [
        "data['sentimentos'] = sentimentos"
      ],
      "metadata": {
        "id": "Ukm28YhAbbtW"
      },
      "execution_count": 31,
      "outputs": []
    },
    {
      "cell_type": "code",
      "source": [
        "data"
      ],
      "metadata": {
        "colab": {
          "base_uri": "https://localhost:8080/",
          "height": 424
        },
        "id": "FPQuhroObee8",
        "outputId": "ff0a5223-5c30-458b-aa98-d10a51a46c9b"
      },
      "execution_count": 32,
      "outputs": [
        {
          "output_type": "execute_result",
          "data": {
            "text/plain": [
              "                              jogo                            diretorio  \\\n",
              "0    palmeiras-x-fluminense-122024   palmeiras-x-fluminense-122024.json   \n",
              "1      cruzeiro-x-palmeiras-122024     cruzeiro-x-palmeiras-122024.json   \n",
              "2      palmeiras-x-botafogo-112024     palmeiras-x-botafogo-112024.json   \n",
              "3             atlético-go-x-112024            atlético-go-x-112024.json   \n",
              "4         bahia-x-palmeiras-112024        bahia-x-palmeiras-112024.json   \n",
              "..                             ...                                  ...   \n",
              "56     palmeiras-x-mirassol-022024     palmeiras-x-mirassol-022024.json   \n",
              "57  palmeiras-x-corinthians-022024  palmeiras-x-corinthians-022024.json   \n",
              "58           são-bernardo-x-022024           são-bernardo-x-022024.json   \n",
              "59       palmeiras-x-ituano-022024       palmeiras-x-ituano-022024.json   \n",
              "60          palmeiras-x-são-022024          palmeiras-x-são-022024.json   \n",
              "\n",
              "      data  sentimentos  \n",
              "0   122024    -0.232522  \n",
              "1   122024    -0.029487  \n",
              "2   112024    -0.249251  \n",
              "3   112024    -0.081573  \n",
              "4   112024    -0.049989  \n",
              "..     ...          ...  \n",
              "56  022024    -0.000795  \n",
              "57  022024    -0.303917  \n",
              "58  022024     0.041796  \n",
              "59  022024    -0.236302  \n",
              "60  022024    -0.336275  \n",
              "\n",
              "[61 rows x 4 columns]"
            ],
            "text/html": [
              "\n",
              "  <div id=\"df-bc79b7ab-d78a-40cd-976a-985758a33448\" class=\"colab-df-container\">\n",
              "    <div>\n",
              "<style scoped>\n",
              "    .dataframe tbody tr th:only-of-type {\n",
              "        vertical-align: middle;\n",
              "    }\n",
              "\n",
              "    .dataframe tbody tr th {\n",
              "        vertical-align: top;\n",
              "    }\n",
              "\n",
              "    .dataframe thead th {\n",
              "        text-align: right;\n",
              "    }\n",
              "</style>\n",
              "<table border=\"1\" class=\"dataframe\">\n",
              "  <thead>\n",
              "    <tr style=\"text-align: right;\">\n",
              "      <th></th>\n",
              "      <th>jogo</th>\n",
              "      <th>diretorio</th>\n",
              "      <th>data</th>\n",
              "      <th>sentimentos</th>\n",
              "    </tr>\n",
              "  </thead>\n",
              "  <tbody>\n",
              "    <tr>\n",
              "      <th>0</th>\n",
              "      <td>palmeiras-x-fluminense-122024</td>\n",
              "      <td>palmeiras-x-fluminense-122024.json</td>\n",
              "      <td>122024</td>\n",
              "      <td>-0.232522</td>\n",
              "    </tr>\n",
              "    <tr>\n",
              "      <th>1</th>\n",
              "      <td>cruzeiro-x-palmeiras-122024</td>\n",
              "      <td>cruzeiro-x-palmeiras-122024.json</td>\n",
              "      <td>122024</td>\n",
              "      <td>-0.029487</td>\n",
              "    </tr>\n",
              "    <tr>\n",
              "      <th>2</th>\n",
              "      <td>palmeiras-x-botafogo-112024</td>\n",
              "      <td>palmeiras-x-botafogo-112024.json</td>\n",
              "      <td>112024</td>\n",
              "      <td>-0.249251</td>\n",
              "    </tr>\n",
              "    <tr>\n",
              "      <th>3</th>\n",
              "      <td>atlético-go-x-112024</td>\n",
              "      <td>atlético-go-x-112024.json</td>\n",
              "      <td>112024</td>\n",
              "      <td>-0.081573</td>\n",
              "    </tr>\n",
              "    <tr>\n",
              "      <th>4</th>\n",
              "      <td>bahia-x-palmeiras-112024</td>\n",
              "      <td>bahia-x-palmeiras-112024.json</td>\n",
              "      <td>112024</td>\n",
              "      <td>-0.049989</td>\n",
              "    </tr>\n",
              "    <tr>\n",
              "      <th>...</th>\n",
              "      <td>...</td>\n",
              "      <td>...</td>\n",
              "      <td>...</td>\n",
              "      <td>...</td>\n",
              "    </tr>\n",
              "    <tr>\n",
              "      <th>56</th>\n",
              "      <td>palmeiras-x-mirassol-022024</td>\n",
              "      <td>palmeiras-x-mirassol-022024.json</td>\n",
              "      <td>022024</td>\n",
              "      <td>-0.000795</td>\n",
              "    </tr>\n",
              "    <tr>\n",
              "      <th>57</th>\n",
              "      <td>palmeiras-x-corinthians-022024</td>\n",
              "      <td>palmeiras-x-corinthians-022024.json</td>\n",
              "      <td>022024</td>\n",
              "      <td>-0.303917</td>\n",
              "    </tr>\n",
              "    <tr>\n",
              "      <th>58</th>\n",
              "      <td>são-bernardo-x-022024</td>\n",
              "      <td>são-bernardo-x-022024.json</td>\n",
              "      <td>022024</td>\n",
              "      <td>0.041796</td>\n",
              "    </tr>\n",
              "    <tr>\n",
              "      <th>59</th>\n",
              "      <td>palmeiras-x-ituano-022024</td>\n",
              "      <td>palmeiras-x-ituano-022024.json</td>\n",
              "      <td>022024</td>\n",
              "      <td>-0.236302</td>\n",
              "    </tr>\n",
              "    <tr>\n",
              "      <th>60</th>\n",
              "      <td>palmeiras-x-são-022024</td>\n",
              "      <td>palmeiras-x-são-022024.json</td>\n",
              "      <td>022024</td>\n",
              "      <td>-0.336275</td>\n",
              "    </tr>\n",
              "  </tbody>\n",
              "</table>\n",
              "<p>61 rows × 4 columns</p>\n",
              "</div>\n",
              "    <div class=\"colab-df-buttons\">\n",
              "\n",
              "  <div class=\"colab-df-container\">\n",
              "    <button class=\"colab-df-convert\" onclick=\"convertToInteractive('df-bc79b7ab-d78a-40cd-976a-985758a33448')\"\n",
              "            title=\"Convert this dataframe to an interactive table.\"\n",
              "            style=\"display:none;\">\n",
              "\n",
              "  <svg xmlns=\"http://www.w3.org/2000/svg\" height=\"24px\" viewBox=\"0 -960 960 960\">\n",
              "    <path d=\"M120-120v-720h720v720H120Zm60-500h600v-160H180v160Zm220 220h160v-160H400v160Zm0 220h160v-160H400v160ZM180-400h160v-160H180v160Zm440 0h160v-160H620v160ZM180-180h160v-160H180v160Zm440 0h160v-160H620v160Z\"/>\n",
              "  </svg>\n",
              "    </button>\n",
              "\n",
              "  <style>\n",
              "    .colab-df-container {\n",
              "      display:flex;\n",
              "      gap: 12px;\n",
              "    }\n",
              "\n",
              "    .colab-df-convert {\n",
              "      background-color: #E8F0FE;\n",
              "      border: none;\n",
              "      border-radius: 50%;\n",
              "      cursor: pointer;\n",
              "      display: none;\n",
              "      fill: #1967D2;\n",
              "      height: 32px;\n",
              "      padding: 0 0 0 0;\n",
              "      width: 32px;\n",
              "    }\n",
              "\n",
              "    .colab-df-convert:hover {\n",
              "      background-color: #E2EBFA;\n",
              "      box-shadow: 0px 1px 2px rgba(60, 64, 67, 0.3), 0px 1px 3px 1px rgba(60, 64, 67, 0.15);\n",
              "      fill: #174EA6;\n",
              "    }\n",
              "\n",
              "    .colab-df-buttons div {\n",
              "      margin-bottom: 4px;\n",
              "    }\n",
              "\n",
              "    [theme=dark] .colab-df-convert {\n",
              "      background-color: #3B4455;\n",
              "      fill: #D2E3FC;\n",
              "    }\n",
              "\n",
              "    [theme=dark] .colab-df-convert:hover {\n",
              "      background-color: #434B5C;\n",
              "      box-shadow: 0px 1px 3px 1px rgba(0, 0, 0, 0.15);\n",
              "      filter: drop-shadow(0px 1px 2px rgba(0, 0, 0, 0.3));\n",
              "      fill: #FFFFFF;\n",
              "    }\n",
              "  </style>\n",
              "\n",
              "    <script>\n",
              "      const buttonEl =\n",
              "        document.querySelector('#df-bc79b7ab-d78a-40cd-976a-985758a33448 button.colab-df-convert');\n",
              "      buttonEl.style.display =\n",
              "        google.colab.kernel.accessAllowed ? 'block' : 'none';\n",
              "\n",
              "      async function convertToInteractive(key) {\n",
              "        const element = document.querySelector('#df-bc79b7ab-d78a-40cd-976a-985758a33448');\n",
              "        const dataTable =\n",
              "          await google.colab.kernel.invokeFunction('convertToInteractive',\n",
              "                                                    [key], {});\n",
              "        if (!dataTable) return;\n",
              "\n",
              "        const docLinkHtml = 'Like what you see? Visit the ' +\n",
              "          '<a target=\"_blank\" href=https://colab.research.google.com/notebooks/data_table.ipynb>data table notebook</a>'\n",
              "          + ' to learn more about interactive tables.';\n",
              "        element.innerHTML = '';\n",
              "        dataTable['output_type'] = 'display_data';\n",
              "        await google.colab.output.renderOutput(dataTable, element);\n",
              "        const docLink = document.createElement('div');\n",
              "        docLink.innerHTML = docLinkHtml;\n",
              "        element.appendChild(docLink);\n",
              "      }\n",
              "    </script>\n",
              "  </div>\n",
              "\n",
              "\n",
              "<div id=\"df-997f6263-5887-4726-9dbc-81355031d923\">\n",
              "  <button class=\"colab-df-quickchart\" onclick=\"quickchart('df-997f6263-5887-4726-9dbc-81355031d923')\"\n",
              "            title=\"Suggest charts\"\n",
              "            style=\"display:none;\">\n",
              "\n",
              "<svg xmlns=\"http://www.w3.org/2000/svg\" height=\"24px\"viewBox=\"0 0 24 24\"\n",
              "     width=\"24px\">\n",
              "    <g>\n",
              "        <path d=\"M19 3H5c-1.1 0-2 .9-2 2v14c0 1.1.9 2 2 2h14c1.1 0 2-.9 2-2V5c0-1.1-.9-2-2-2zM9 17H7v-7h2v7zm4 0h-2V7h2v10zm4 0h-2v-4h2v4z\"/>\n",
              "    </g>\n",
              "</svg>\n",
              "  </button>\n",
              "\n",
              "<style>\n",
              "  .colab-df-quickchart {\n",
              "      --bg-color: #E8F0FE;\n",
              "      --fill-color: #1967D2;\n",
              "      --hover-bg-color: #E2EBFA;\n",
              "      --hover-fill-color: #174EA6;\n",
              "      --disabled-fill-color: #AAA;\n",
              "      --disabled-bg-color: #DDD;\n",
              "  }\n",
              "\n",
              "  [theme=dark] .colab-df-quickchart {\n",
              "      --bg-color: #3B4455;\n",
              "      --fill-color: #D2E3FC;\n",
              "      --hover-bg-color: #434B5C;\n",
              "      --hover-fill-color: #FFFFFF;\n",
              "      --disabled-bg-color: #3B4455;\n",
              "      --disabled-fill-color: #666;\n",
              "  }\n",
              "\n",
              "  .colab-df-quickchart {\n",
              "    background-color: var(--bg-color);\n",
              "    border: none;\n",
              "    border-radius: 50%;\n",
              "    cursor: pointer;\n",
              "    display: none;\n",
              "    fill: var(--fill-color);\n",
              "    height: 32px;\n",
              "    padding: 0;\n",
              "    width: 32px;\n",
              "  }\n",
              "\n",
              "  .colab-df-quickchart:hover {\n",
              "    background-color: var(--hover-bg-color);\n",
              "    box-shadow: 0 1px 2px rgba(60, 64, 67, 0.3), 0 1px 3px 1px rgba(60, 64, 67, 0.15);\n",
              "    fill: var(--button-hover-fill-color);\n",
              "  }\n",
              "\n",
              "  .colab-df-quickchart-complete:disabled,\n",
              "  .colab-df-quickchart-complete:disabled:hover {\n",
              "    background-color: var(--disabled-bg-color);\n",
              "    fill: var(--disabled-fill-color);\n",
              "    box-shadow: none;\n",
              "  }\n",
              "\n",
              "  .colab-df-spinner {\n",
              "    border: 2px solid var(--fill-color);\n",
              "    border-color: transparent;\n",
              "    border-bottom-color: var(--fill-color);\n",
              "    animation:\n",
              "      spin 1s steps(1) infinite;\n",
              "  }\n",
              "\n",
              "  @keyframes spin {\n",
              "    0% {\n",
              "      border-color: transparent;\n",
              "      border-bottom-color: var(--fill-color);\n",
              "      border-left-color: var(--fill-color);\n",
              "    }\n",
              "    20% {\n",
              "      border-color: transparent;\n",
              "      border-left-color: var(--fill-color);\n",
              "      border-top-color: var(--fill-color);\n",
              "    }\n",
              "    30% {\n",
              "      border-color: transparent;\n",
              "      border-left-color: var(--fill-color);\n",
              "      border-top-color: var(--fill-color);\n",
              "      border-right-color: var(--fill-color);\n",
              "    }\n",
              "    40% {\n",
              "      border-color: transparent;\n",
              "      border-right-color: var(--fill-color);\n",
              "      border-top-color: var(--fill-color);\n",
              "    }\n",
              "    60% {\n",
              "      border-color: transparent;\n",
              "      border-right-color: var(--fill-color);\n",
              "    }\n",
              "    80% {\n",
              "      border-color: transparent;\n",
              "      border-right-color: var(--fill-color);\n",
              "      border-bottom-color: var(--fill-color);\n",
              "    }\n",
              "    90% {\n",
              "      border-color: transparent;\n",
              "      border-bottom-color: var(--fill-color);\n",
              "    }\n",
              "  }\n",
              "</style>\n",
              "\n",
              "  <script>\n",
              "    async function quickchart(key) {\n",
              "      const quickchartButtonEl =\n",
              "        document.querySelector('#' + key + ' button');\n",
              "      quickchartButtonEl.disabled = true;  // To prevent multiple clicks.\n",
              "      quickchartButtonEl.classList.add('colab-df-spinner');\n",
              "      try {\n",
              "        const charts = await google.colab.kernel.invokeFunction(\n",
              "            'suggestCharts', [key], {});\n",
              "      } catch (error) {\n",
              "        console.error('Error during call to suggestCharts:', error);\n",
              "      }\n",
              "      quickchartButtonEl.classList.remove('colab-df-spinner');\n",
              "      quickchartButtonEl.classList.add('colab-df-quickchart-complete');\n",
              "    }\n",
              "    (() => {\n",
              "      let quickchartButtonEl =\n",
              "        document.querySelector('#df-997f6263-5887-4726-9dbc-81355031d923 button');\n",
              "      quickchartButtonEl.style.display =\n",
              "        google.colab.kernel.accessAllowed ? 'block' : 'none';\n",
              "    })();\n",
              "  </script>\n",
              "</div>\n",
              "\n",
              "  <div id=\"id_dce679c8-492a-43db-a0ab-c96b8aa2f9b7\">\n",
              "    <style>\n",
              "      .colab-df-generate {\n",
              "        background-color: #E8F0FE;\n",
              "        border: none;\n",
              "        border-radius: 50%;\n",
              "        cursor: pointer;\n",
              "        display: none;\n",
              "        fill: #1967D2;\n",
              "        height: 32px;\n",
              "        padding: 0 0 0 0;\n",
              "        width: 32px;\n",
              "      }\n",
              "\n",
              "      .colab-df-generate:hover {\n",
              "        background-color: #E2EBFA;\n",
              "        box-shadow: 0px 1px 2px rgba(60, 64, 67, 0.3), 0px 1px 3px 1px rgba(60, 64, 67, 0.15);\n",
              "        fill: #174EA6;\n",
              "      }\n",
              "\n",
              "      [theme=dark] .colab-df-generate {\n",
              "        background-color: #3B4455;\n",
              "        fill: #D2E3FC;\n",
              "      }\n",
              "\n",
              "      [theme=dark] .colab-df-generate:hover {\n",
              "        background-color: #434B5C;\n",
              "        box-shadow: 0px 1px 3px 1px rgba(0, 0, 0, 0.15);\n",
              "        filter: drop-shadow(0px 1px 2px rgba(0, 0, 0, 0.3));\n",
              "        fill: #FFFFFF;\n",
              "      }\n",
              "    </style>\n",
              "    <button class=\"colab-df-generate\" onclick=\"generateWithVariable('data')\"\n",
              "            title=\"Generate code using this dataframe.\"\n",
              "            style=\"display:none;\">\n",
              "\n",
              "  <svg xmlns=\"http://www.w3.org/2000/svg\" height=\"24px\"viewBox=\"0 0 24 24\"\n",
              "       width=\"24px\">\n",
              "    <path d=\"M7,19H8.4L18.45,9,17,7.55,7,17.6ZM5,21V16.75L18.45,3.32a2,2,0,0,1,2.83,0l1.4,1.43a1.91,1.91,0,0,1,.58,1.4,1.91,1.91,0,0,1-.58,1.4L9.25,21ZM18.45,9,17,7.55Zm-12,3A5.31,5.31,0,0,0,4.9,8.1,5.31,5.31,0,0,0,1,6.5,5.31,5.31,0,0,0,4.9,4.9,5.31,5.31,0,0,0,6.5,1,5.31,5.31,0,0,0,8.1,4.9,5.31,5.31,0,0,0,12,6.5,5.46,5.46,0,0,0,6.5,12Z\"/>\n",
              "  </svg>\n",
              "    </button>\n",
              "    <script>\n",
              "      (() => {\n",
              "      const buttonEl =\n",
              "        document.querySelector('#id_dce679c8-492a-43db-a0ab-c96b8aa2f9b7 button.colab-df-generate');\n",
              "      buttonEl.style.display =\n",
              "        google.colab.kernel.accessAllowed ? 'block' : 'none';\n",
              "\n",
              "      buttonEl.onclick = () => {\n",
              "        google.colab.notebook.generateWithVariable('data');\n",
              "      }\n",
              "      })();\n",
              "    </script>\n",
              "  </div>\n",
              "\n",
              "    </div>\n",
              "  </div>\n"
            ],
            "application/vnd.google.colaboratory.intrinsic+json": {
              "type": "dataframe",
              "variable_name": "data",
              "summary": "{\n  \"name\": \"data\",\n  \"rows\": 61,\n  \"fields\": [\n    {\n      \"column\": \"jogo\",\n      \"properties\": {\n        \"dtype\": \"string\",\n        \"num_unique_values\": 60,\n        \"samples\": [\n          \"palmeiras-x-fluminense-122024\",\n          \"palmeiras-x-gr\\u00eamio-112024\",\n          \"palmeiras-x-del-052024\"\n        ],\n        \"semantic_type\": \"\",\n        \"description\": \"\"\n      }\n    },\n    {\n      \"column\": \"diretorio\",\n      \"properties\": {\n        \"dtype\": \"string\",\n        \"num_unique_values\": 60,\n        \"samples\": [\n          \"palmeiras-x-fluminense-122024.json\",\n          \"palmeiras-x-gr\\u00eamio-112024.json\",\n          \"palmeiras-x-del-052024.json\"\n        ],\n        \"semantic_type\": \"\",\n        \"description\": \"\"\n      }\n    },\n    {\n      \"column\": \"data\",\n      \"properties\": {\n        \"dtype\": \"object\",\n        \"num_unique_values\": 11,\n        \"samples\": [\n          \"072024\",\n          \"122024\",\n          \"032024\"\n        ],\n        \"semantic_type\": \"\",\n        \"description\": \"\"\n      }\n    },\n    {\n      \"column\": \"sentimentos\",\n      \"properties\": {\n        \"dtype\": \"number\",\n        \"std\": 0.15455357948544365,\n        \"min\": -0.40151573033707855,\n        \"max\": 0.24327962962962962,\n        \"num_unique_values\": 60,\n        \"samples\": [\n          -0.23252195121951225,\n          -0.05579324324324321,\n          -0.29232134831460677\n        ],\n        \"semantic_type\": \"\",\n        \"description\": \"\"\n      }\n    }\n  ]\n}"
            }
          },
          "metadata": {},
          "execution_count": 32
        }
      ]
    },
    {
      "cell_type": "code",
      "source": [
        "## 5 piores avaliações\n",
        "data.sort_values(by=['sentimentos']).head(5)"
      ],
      "metadata": {
        "colab": {
          "base_uri": "https://localhost:8080/",
          "height": 206
        },
        "id": "mhXaF2gucrLo",
        "outputId": "eb1f64d3-7832-490f-9a7e-8f0f20043496"
      },
      "execution_count": 41,
      "outputs": [
        {
          "output_type": "execute_result",
          "data": {
            "text/plain": [
              "                             jogo                           diretorio    data  \\\n",
              "22  fluminense-x-palmeiras-072024  fluminense-x-palmeiras-072024.json  072024   \n",
              "60         palmeiras-x-são-022024         palmeiras-x-são-022024.json  022024   \n",
              "54             são-paulo-x-032024             são-paulo-x-032024.json  032024   \n",
              "18    palmeiras-x-flamengo-082024    palmeiras-x-flamengo-082024.json  082024   \n",
              "29   fortaleza-x-palmeiras-062024   fortaleza-x-palmeiras-062024.json  062024   \n",
              "\n",
              "    sentimentos  \n",
              "22    -0.401516  \n",
              "60    -0.336275  \n",
              "54    -0.334825  \n",
              "18    -0.323919  \n",
              "29    -0.306875  "
            ],
            "text/html": [
              "\n",
              "  <div id=\"df-dd2a5302-c14f-4a24-ae37-f809220c1841\" class=\"colab-df-container\">\n",
              "    <div>\n",
              "<style scoped>\n",
              "    .dataframe tbody tr th:only-of-type {\n",
              "        vertical-align: middle;\n",
              "    }\n",
              "\n",
              "    .dataframe tbody tr th {\n",
              "        vertical-align: top;\n",
              "    }\n",
              "\n",
              "    .dataframe thead th {\n",
              "        text-align: right;\n",
              "    }\n",
              "</style>\n",
              "<table border=\"1\" class=\"dataframe\">\n",
              "  <thead>\n",
              "    <tr style=\"text-align: right;\">\n",
              "      <th></th>\n",
              "      <th>jogo</th>\n",
              "      <th>diretorio</th>\n",
              "      <th>data</th>\n",
              "      <th>sentimentos</th>\n",
              "    </tr>\n",
              "  </thead>\n",
              "  <tbody>\n",
              "    <tr>\n",
              "      <th>22</th>\n",
              "      <td>fluminense-x-palmeiras-072024</td>\n",
              "      <td>fluminense-x-palmeiras-072024.json</td>\n",
              "      <td>072024</td>\n",
              "      <td>-0.401516</td>\n",
              "    </tr>\n",
              "    <tr>\n",
              "      <th>60</th>\n",
              "      <td>palmeiras-x-são-022024</td>\n",
              "      <td>palmeiras-x-são-022024.json</td>\n",
              "      <td>022024</td>\n",
              "      <td>-0.336275</td>\n",
              "    </tr>\n",
              "    <tr>\n",
              "      <th>54</th>\n",
              "      <td>são-paulo-x-032024</td>\n",
              "      <td>são-paulo-x-032024.json</td>\n",
              "      <td>032024</td>\n",
              "      <td>-0.334825</td>\n",
              "    </tr>\n",
              "    <tr>\n",
              "      <th>18</th>\n",
              "      <td>palmeiras-x-flamengo-082024</td>\n",
              "      <td>palmeiras-x-flamengo-082024.json</td>\n",
              "      <td>082024</td>\n",
              "      <td>-0.323919</td>\n",
              "    </tr>\n",
              "    <tr>\n",
              "      <th>29</th>\n",
              "      <td>fortaleza-x-palmeiras-062024</td>\n",
              "      <td>fortaleza-x-palmeiras-062024.json</td>\n",
              "      <td>062024</td>\n",
              "      <td>-0.306875</td>\n",
              "    </tr>\n",
              "  </tbody>\n",
              "</table>\n",
              "</div>\n",
              "    <div class=\"colab-df-buttons\">\n",
              "\n",
              "  <div class=\"colab-df-container\">\n",
              "    <button class=\"colab-df-convert\" onclick=\"convertToInteractive('df-dd2a5302-c14f-4a24-ae37-f809220c1841')\"\n",
              "            title=\"Convert this dataframe to an interactive table.\"\n",
              "            style=\"display:none;\">\n",
              "\n",
              "  <svg xmlns=\"http://www.w3.org/2000/svg\" height=\"24px\" viewBox=\"0 -960 960 960\">\n",
              "    <path d=\"M120-120v-720h720v720H120Zm60-500h600v-160H180v160Zm220 220h160v-160H400v160Zm0 220h160v-160H400v160ZM180-400h160v-160H180v160Zm440 0h160v-160H620v160ZM180-180h160v-160H180v160Zm440 0h160v-160H620v160Z\"/>\n",
              "  </svg>\n",
              "    </button>\n",
              "\n",
              "  <style>\n",
              "    .colab-df-container {\n",
              "      display:flex;\n",
              "      gap: 12px;\n",
              "    }\n",
              "\n",
              "    .colab-df-convert {\n",
              "      background-color: #E8F0FE;\n",
              "      border: none;\n",
              "      border-radius: 50%;\n",
              "      cursor: pointer;\n",
              "      display: none;\n",
              "      fill: #1967D2;\n",
              "      height: 32px;\n",
              "      padding: 0 0 0 0;\n",
              "      width: 32px;\n",
              "    }\n",
              "\n",
              "    .colab-df-convert:hover {\n",
              "      background-color: #E2EBFA;\n",
              "      box-shadow: 0px 1px 2px rgba(60, 64, 67, 0.3), 0px 1px 3px 1px rgba(60, 64, 67, 0.15);\n",
              "      fill: #174EA6;\n",
              "    }\n",
              "\n",
              "    .colab-df-buttons div {\n",
              "      margin-bottom: 4px;\n",
              "    }\n",
              "\n",
              "    [theme=dark] .colab-df-convert {\n",
              "      background-color: #3B4455;\n",
              "      fill: #D2E3FC;\n",
              "    }\n",
              "\n",
              "    [theme=dark] .colab-df-convert:hover {\n",
              "      background-color: #434B5C;\n",
              "      box-shadow: 0px 1px 3px 1px rgba(0, 0, 0, 0.15);\n",
              "      filter: drop-shadow(0px 1px 2px rgba(0, 0, 0, 0.3));\n",
              "      fill: #FFFFFF;\n",
              "    }\n",
              "  </style>\n",
              "\n",
              "    <script>\n",
              "      const buttonEl =\n",
              "        document.querySelector('#df-dd2a5302-c14f-4a24-ae37-f809220c1841 button.colab-df-convert');\n",
              "      buttonEl.style.display =\n",
              "        google.colab.kernel.accessAllowed ? 'block' : 'none';\n",
              "\n",
              "      async function convertToInteractive(key) {\n",
              "        const element = document.querySelector('#df-dd2a5302-c14f-4a24-ae37-f809220c1841');\n",
              "        const dataTable =\n",
              "          await google.colab.kernel.invokeFunction('convertToInteractive',\n",
              "                                                    [key], {});\n",
              "        if (!dataTable) return;\n",
              "\n",
              "        const docLinkHtml = 'Like what you see? Visit the ' +\n",
              "          '<a target=\"_blank\" href=https://colab.research.google.com/notebooks/data_table.ipynb>data table notebook</a>'\n",
              "          + ' to learn more about interactive tables.';\n",
              "        element.innerHTML = '';\n",
              "        dataTable['output_type'] = 'display_data';\n",
              "        await google.colab.output.renderOutput(dataTable, element);\n",
              "        const docLink = document.createElement('div');\n",
              "        docLink.innerHTML = docLinkHtml;\n",
              "        element.appendChild(docLink);\n",
              "      }\n",
              "    </script>\n",
              "  </div>\n",
              "\n",
              "\n",
              "<div id=\"df-aad366e2-9942-425d-8833-1998de67312c\">\n",
              "  <button class=\"colab-df-quickchart\" onclick=\"quickchart('df-aad366e2-9942-425d-8833-1998de67312c')\"\n",
              "            title=\"Suggest charts\"\n",
              "            style=\"display:none;\">\n",
              "\n",
              "<svg xmlns=\"http://www.w3.org/2000/svg\" height=\"24px\"viewBox=\"0 0 24 24\"\n",
              "     width=\"24px\">\n",
              "    <g>\n",
              "        <path d=\"M19 3H5c-1.1 0-2 .9-2 2v14c0 1.1.9 2 2 2h14c1.1 0 2-.9 2-2V5c0-1.1-.9-2-2-2zM9 17H7v-7h2v7zm4 0h-2V7h2v10zm4 0h-2v-4h2v4z\"/>\n",
              "    </g>\n",
              "</svg>\n",
              "  </button>\n",
              "\n",
              "<style>\n",
              "  .colab-df-quickchart {\n",
              "      --bg-color: #E8F0FE;\n",
              "      --fill-color: #1967D2;\n",
              "      --hover-bg-color: #E2EBFA;\n",
              "      --hover-fill-color: #174EA6;\n",
              "      --disabled-fill-color: #AAA;\n",
              "      --disabled-bg-color: #DDD;\n",
              "  }\n",
              "\n",
              "  [theme=dark] .colab-df-quickchart {\n",
              "      --bg-color: #3B4455;\n",
              "      --fill-color: #D2E3FC;\n",
              "      --hover-bg-color: #434B5C;\n",
              "      --hover-fill-color: #FFFFFF;\n",
              "      --disabled-bg-color: #3B4455;\n",
              "      --disabled-fill-color: #666;\n",
              "  }\n",
              "\n",
              "  .colab-df-quickchart {\n",
              "    background-color: var(--bg-color);\n",
              "    border: none;\n",
              "    border-radius: 50%;\n",
              "    cursor: pointer;\n",
              "    display: none;\n",
              "    fill: var(--fill-color);\n",
              "    height: 32px;\n",
              "    padding: 0;\n",
              "    width: 32px;\n",
              "  }\n",
              "\n",
              "  .colab-df-quickchart:hover {\n",
              "    background-color: var(--hover-bg-color);\n",
              "    box-shadow: 0 1px 2px rgba(60, 64, 67, 0.3), 0 1px 3px 1px rgba(60, 64, 67, 0.15);\n",
              "    fill: var(--button-hover-fill-color);\n",
              "  }\n",
              "\n",
              "  .colab-df-quickchart-complete:disabled,\n",
              "  .colab-df-quickchart-complete:disabled:hover {\n",
              "    background-color: var(--disabled-bg-color);\n",
              "    fill: var(--disabled-fill-color);\n",
              "    box-shadow: none;\n",
              "  }\n",
              "\n",
              "  .colab-df-spinner {\n",
              "    border: 2px solid var(--fill-color);\n",
              "    border-color: transparent;\n",
              "    border-bottom-color: var(--fill-color);\n",
              "    animation:\n",
              "      spin 1s steps(1) infinite;\n",
              "  }\n",
              "\n",
              "  @keyframes spin {\n",
              "    0% {\n",
              "      border-color: transparent;\n",
              "      border-bottom-color: var(--fill-color);\n",
              "      border-left-color: var(--fill-color);\n",
              "    }\n",
              "    20% {\n",
              "      border-color: transparent;\n",
              "      border-left-color: var(--fill-color);\n",
              "      border-top-color: var(--fill-color);\n",
              "    }\n",
              "    30% {\n",
              "      border-color: transparent;\n",
              "      border-left-color: var(--fill-color);\n",
              "      border-top-color: var(--fill-color);\n",
              "      border-right-color: var(--fill-color);\n",
              "    }\n",
              "    40% {\n",
              "      border-color: transparent;\n",
              "      border-right-color: var(--fill-color);\n",
              "      border-top-color: var(--fill-color);\n",
              "    }\n",
              "    60% {\n",
              "      border-color: transparent;\n",
              "      border-right-color: var(--fill-color);\n",
              "    }\n",
              "    80% {\n",
              "      border-color: transparent;\n",
              "      border-right-color: var(--fill-color);\n",
              "      border-bottom-color: var(--fill-color);\n",
              "    }\n",
              "    90% {\n",
              "      border-color: transparent;\n",
              "      border-bottom-color: var(--fill-color);\n",
              "    }\n",
              "  }\n",
              "</style>\n",
              "\n",
              "  <script>\n",
              "    async function quickchart(key) {\n",
              "      const quickchartButtonEl =\n",
              "        document.querySelector('#' + key + ' button');\n",
              "      quickchartButtonEl.disabled = true;  // To prevent multiple clicks.\n",
              "      quickchartButtonEl.classList.add('colab-df-spinner');\n",
              "      try {\n",
              "        const charts = await google.colab.kernel.invokeFunction(\n",
              "            'suggestCharts', [key], {});\n",
              "      } catch (error) {\n",
              "        console.error('Error during call to suggestCharts:', error);\n",
              "      }\n",
              "      quickchartButtonEl.classList.remove('colab-df-spinner');\n",
              "      quickchartButtonEl.classList.add('colab-df-quickchart-complete');\n",
              "    }\n",
              "    (() => {\n",
              "      let quickchartButtonEl =\n",
              "        document.querySelector('#df-aad366e2-9942-425d-8833-1998de67312c button');\n",
              "      quickchartButtonEl.style.display =\n",
              "        google.colab.kernel.accessAllowed ? 'block' : 'none';\n",
              "    })();\n",
              "  </script>\n",
              "</div>\n",
              "\n",
              "    </div>\n",
              "  </div>\n"
            ],
            "application/vnd.google.colaboratory.intrinsic+json": {
              "type": "dataframe",
              "repr_error": "0"
            }
          },
          "metadata": {},
          "execution_count": 41
        }
      ]
    },
    {
      "cell_type": "markdown",
      "source": [
        "Para identificar uns dos objetivos, iremos ver quais foram as piores e as melhores avaliações."
      ],
      "metadata": {
        "id": "mtGu3zTsc3CO"
      }
    },
    {
      "cell_type": "code",
      "source": [
        "from IPython.display import Image\n",
        "Image('/content/odiados.png')"
      ],
      "metadata": {
        "colab": {
          "base_uri": "https://localhost:8080/",
          "height": 638
        },
        "id": "ZwY1ySe6mFPM",
        "outputId": "e5cac874-6198-44f8-84f1-c825a74b5b62"
      },
      "execution_count": 42,
      "outputs": [
        {
          "output_type": "execute_result",
          "data": {
            "image/png": "[encoded data removed]",
            "text/plain": [
              "<IPython.core.display.Image object>"
            ]
          },
          "metadata": {},
          "execution_count": 42
        }
      ]
    },
    {
      "cell_type": "code",
      "source": [
        "## 5 melhores avaliações\n",
        "data.sort_values(by=['sentimentos'], ascending=False).head(5)"
      ],
      "metadata": {
        "colab": {
          "base_uri": "https://localhost:8080/",
          "height": 206
        },
        "id": "rvuMJn7uczYj",
        "outputId": "a621abe1-8405-4a6d-e7e7-c6c22e629c92"
      },
      "execution_count": 40,
      "outputs": [
        {
          "output_type": "execute_result",
          "data": {
            "text/plain": [
              "                            jogo                          diretorio    data  \\\n",
              "30  palmeiras-x-juventude-062024  palmeiras-x-juventude-062024.json  062024   \n",
              "52      palmeiras-x-ponte-032024      palmeiras-x-ponte-032024.json  032024   \n",
              "26      palmeiras-x-bahia-072024      palmeiras-x-bahia-072024.json  072024   \n",
              "32          atlético-mg-x-062024          atlético-mg-x-062024.json  062024   \n",
              "48     palmeiras-x-santos-042024     palmeiras-x-santos-042024.json  042024   \n",
              "\n",
              "    sentimentos  \n",
              "30     0.243280  \n",
              "52     0.214594  \n",
              "26     0.196200  \n",
              "32     0.159445  \n",
              "48     0.098184  "
            ],
            "text/html": [
              "\n",
              "  <div id=\"df-4bf136c9-be61-4d07-bb4b-2f7cae148494\" class=\"colab-df-container\">\n",
              "    <div>\n",
              "<style scoped>\n",
              "    .dataframe tbody tr th:only-of-type {\n",
              "        vertical-align: middle;\n",
              "    }\n",
              "\n",
              "    .dataframe tbody tr th {\n",
              "        vertical-align: top;\n",
              "    }\n",
              "\n",
              "    .dataframe thead th {\n",
              "        text-align: right;\n",
              "    }\n",
              "</style>\n",
              "<table border=\"1\" class=\"dataframe\">\n",
              "  <thead>\n",
              "    <tr style=\"text-align: right;\">\n",
              "      <th></th>\n",
              "      <th>jogo</th>\n",
              "      <th>diretorio</th>\n",
              "      <th>data</th>\n",
              "      <th>sentimentos</th>\n",
              "    </tr>\n",
              "  </thead>\n",
              "  <tbody>\n",
              "    <tr>\n",
              "      <th>30</th>\n",
              "      <td>palmeiras-x-juventude-062024</td>\n",
              "      <td>palmeiras-x-juventude-062024.json</td>\n",
              "      <td>062024</td>\n",
              "      <td>0.243280</td>\n",
              "    </tr>\n",
              "    <tr>\n",
              "      <th>52</th>\n",
              "      <td>palmeiras-x-ponte-032024</td>\n",
              "      <td>palmeiras-x-ponte-032024.json</td>\n",
              "      <td>032024</td>\n",
              "      <td>0.214594</td>\n",
              "    </tr>\n",
              "    <tr>\n",
              "      <th>26</th>\n",
              "      <td>palmeiras-x-bahia-072024</td>\n",
              "      <td>palmeiras-x-bahia-072024.json</td>\n",
              "      <td>072024</td>\n",
              "      <td>0.196200</td>\n",
              "    </tr>\n",
              "    <tr>\n",
              "      <th>32</th>\n",
              "      <td>atlético-mg-x-062024</td>\n",
              "      <td>atlético-mg-x-062024.json</td>\n",
              "      <td>062024</td>\n",
              "      <td>0.159445</td>\n",
              "    </tr>\n",
              "    <tr>\n",
              "      <th>48</th>\n",
              "      <td>palmeiras-x-santos-042024</td>\n",
              "      <td>palmeiras-x-santos-042024.json</td>\n",
              "      <td>042024</td>\n",
              "      <td>0.098184</td>\n",
              "    </tr>\n",
              "  </tbody>\n",
              "</table>\n",
              "</div>\n",
              "    <div class=\"colab-df-buttons\">\n",
              "\n",
              "  <div class=\"colab-df-container\">\n",
              "    <button class=\"colab-df-convert\" onclick=\"convertToInteractive('df-4bf136c9-be61-4d07-bb4b-2f7cae148494')\"\n",
              "            title=\"Convert this dataframe to an interactive table.\"\n",
              "            style=\"display:none;\">\n",
              "\n",
              "  <svg xmlns=\"http://www.w3.org/2000/svg\" height=\"24px\" viewBox=\"0 -960 960 960\">\n",
              "    <path d=\"M120-120v-720h720v720H120Zm60-500h600v-160H180v160Zm220 220h160v-160H400v160Zm0 220h160v-160H400v160ZM180-400h160v-160H180v160Zm440 0h160v-160H620v160ZM180-180h160v-160H180v160Zm440 0h160v-160H620v160Z\"/>\n",
              "  </svg>\n",
              "    </button>\n",
              "\n",
              "  <style>\n",
              "    .colab-df-container {\n",
              "      display:flex;\n",
              "      gap: 12px;\n",
              "    }\n",
              "\n",
              "    .colab-df-convert {\n",
              "      background-color: #E8F0FE;\n",
              "      border: none;\n",
              "      border-radius: 50%;\n",
              "      cursor: pointer;\n",
              "      display: none;\n",
              "      fill: #1967D2;\n",
              "      height: 32px;\n",
              "      padding: 0 0 0 0;\n",
              "      width: 32px;\n",
              "    }\n",
              "\n",
              "    .colab-df-convert:hover {\n",
              "      background-color: #E2EBFA;\n",
              "      box-shadow: 0px 1px 2px rgba(60, 64, 67, 0.3), 0px 1px 3px 1px rgba(60, 64, 67, 0.15);\n",
              "      fill: #174EA6;\n",
              "    }\n",
              "\n",
              "    .colab-df-buttons div {\n",
              "      margin-bottom: 4px;\n",
              "    }\n",
              "\n",
              "    [theme=dark] .colab-df-convert {\n",
              "      background-color: #3B4455;\n",
              "      fill: #D2E3FC;\n",
              "    }\n",
              "\n",
              "    [theme=dark] .colab-df-convert:hover {\n",
              "      background-color: #434B5C;\n",
              "      box-shadow: 0px 1px 3px 1px rgba(0, 0, 0, 0.15);\n",
              "      filter: drop-shadow(0px 1px 2px rgba(0, 0, 0, 0.3));\n",
              "      fill: #FFFFFF;\n",
              "    }\n",
              "  </style>\n",
              "\n",
              "    <script>\n",
              "      const buttonEl =\n",
              "        document.querySelector('#df-4bf136c9-be61-4d07-bb4b-2f7cae148494 button.colab-df-convert');\n",
              "      buttonEl.style.display =\n",
              "        google.colab.kernel.accessAllowed ? 'block' : 'none';\n",
              "\n",
              "      async function convertToInteractive(key) {\n",
              "        const element = document.querySelector('#df-4bf136c9-be61-4d07-bb4b-2f7cae148494');\n",
              "        const dataTable =\n",
              "          await google.colab.kernel.invokeFunction('convertToInteractive',\n",
              "                                                    [key], {});\n",
              "        if (!dataTable) return;\n",
              "\n",
              "        const docLinkHtml = 'Like what you see? Visit the ' +\n",
              "          '<a target=\"_blank\" href=https://colab.research.google.com/notebooks/data_table.ipynb>data table notebook</a>'\n",
              "          + ' to learn more about interactive tables.';\n",
              "        element.innerHTML = '';\n",
              "        dataTable['output_type'] = 'display_data';\n",
              "        await google.colab.output.renderOutput(dataTable, element);\n",
              "        const docLink = document.createElement('div');\n",
              "        docLink.innerHTML = docLinkHtml;\n",
              "        element.appendChild(docLink);\n",
              "      }\n",
              "    </script>\n",
              "  </div>\n",
              "\n",
              "\n",
              "<div id=\"df-f9864415-bce4-4459-88cf-30185fe5f397\">\n",
              "  <button class=\"colab-df-quickchart\" onclick=\"quickchart('df-f9864415-bce4-4459-88cf-30185fe5f397')\"\n",
              "            title=\"Suggest charts\"\n",
              "            style=\"display:none;\">\n",
              "\n",
              "<svg xmlns=\"http://www.w3.org/2000/svg\" height=\"24px\"viewBox=\"0 0 24 24\"\n",
              "     width=\"24px\">\n",
              "    <g>\n",
              "        <path d=\"M19 3H5c-1.1 0-2 .9-2 2v14c0 1.1.9 2 2 2h14c1.1 0 2-.9 2-2V5c0-1.1-.9-2-2-2zM9 17H7v-7h2v7zm4 0h-2V7h2v10zm4 0h-2v-4h2v4z\"/>\n",
              "    </g>\n",
              "</svg>\n",
              "  </button>\n",
              "\n",
              "<style>\n",
              "  .colab-df-quickchart {\n",
              "      --bg-color: #E8F0FE;\n",
              "      --fill-color: #1967D2;\n",
              "      --hover-bg-color: #E2EBFA;\n",
              "      --hover-fill-color: #174EA6;\n",
              "      --disabled-fill-color: #AAA;\n",
              "      --disabled-bg-color: #DDD;\n",
              "  }\n",
              "\n",
              "  [theme=dark] .colab-df-quickchart {\n",
              "      --bg-color: #3B4455;\n",
              "      --fill-color: #D2E3FC;\n",
              "      --hover-bg-color: #434B5C;\n",
              "      --hover-fill-color: #FFFFFF;\n",
              "      --disabled-bg-color: #3B4455;\n",
              "      --disabled-fill-color: #666;\n",
              "  }\n",
              "\n",
              "  .colab-df-quickchart {\n",
              "    background-color: var(--bg-color);\n",
              "    border: none;\n",
              "    border-radius: 50%;\n",
              "    cursor: pointer;\n",
              "    display: none;\n",
              "    fill: var(--fill-color);\n",
              "    height: 32px;\n",
              "    padding: 0;\n",
              "    width: 32px;\n",
              "  }\n",
              "\n",
              "  .colab-df-quickchart:hover {\n",
              "    background-color: var(--hover-bg-color);\n",
              "    box-shadow: 0 1px 2px rgba(60, 64, 67, 0.3), 0 1px 3px 1px rgba(60, 64, 67, 0.15);\n",
              "    fill: var(--button-hover-fill-color);\n",
              "  }\n",
              "\n",
              "  .colab-df-quickchart-complete:disabled,\n",
              "  .colab-df-quickchart-complete:disabled:hover {\n",
              "    background-color: var(--disabled-bg-color);\n",
              "    fill: var(--disabled-fill-color);\n",
              "    box-shadow: none;\n",
              "  }\n",
              "\n",
              "  .colab-df-spinner {\n",
              "    border: 2px solid var(--fill-color);\n",
              "    border-color: transparent;\n",
              "    border-bottom-color: var(--fill-color);\n",
              "    animation:\n",
              "      spin 1s steps(1) infinite;\n",
              "  }\n",
              "\n",
              "  @keyframes spin {\n",
              "    0% {\n",
              "      border-color: transparent;\n",
              "      border-bottom-color: var(--fill-color);\n",
              "      border-left-color: var(--fill-color);\n",
              "    }\n",
              "    20% {\n",
              "      border-color: transparent;\n",
              "      border-left-color: var(--fill-color);\n",
              "      border-top-color: var(--fill-color);\n",
              "    }\n",
              "    30% {\n",
              "      border-color: transparent;\n",
              "      border-left-color: var(--fill-color);\n",
              "      border-top-color: var(--fill-color);\n",
              "      border-right-color: var(--fill-color);\n",
              "    }\n",
              "    40% {\n",
              "      border-color: transparent;\n",
              "      border-right-color: var(--fill-color);\n",
              "      border-top-color: var(--fill-color);\n",
              "    }\n",
              "    60% {\n",
              "      border-color: transparent;\n",
              "      border-right-color: var(--fill-color);\n",
              "    }\n",
              "    80% {\n",
              "      border-color: transparent;\n",
              "      border-right-color: var(--fill-color);\n",
              "      border-bottom-color: var(--fill-color);\n",
              "    }\n",
              "    90% {\n",
              "      border-color: transparent;\n",
              "      border-bottom-color: var(--fill-color);\n",
              "    }\n",
              "  }\n",
              "</style>\n",
              "\n",
              "  <script>\n",
              "    async function quickchart(key) {\n",
              "      const quickchartButtonEl =\n",
              "        document.querySelector('#' + key + ' button');\n",
              "      quickchartButtonEl.disabled = true;  // To prevent multiple clicks.\n",
              "      quickchartButtonEl.classList.add('colab-df-spinner');\n",
              "      try {\n",
              "        const charts = await google.colab.kernel.invokeFunction(\n",
              "            'suggestCharts', [key], {});\n",
              "      } catch (error) {\n",
              "        console.error('Error during call to suggestCharts:', error);\n",
              "      }\n",
              "      quickchartButtonEl.classList.remove('colab-df-spinner');\n",
              "      quickchartButtonEl.classList.add('colab-df-quickchart-complete');\n",
              "    }\n",
              "    (() => {\n",
              "      let quickchartButtonEl =\n",
              "        document.querySelector('#df-f9864415-bce4-4459-88cf-30185fe5f397 button');\n",
              "      quickchartButtonEl.style.display =\n",
              "        google.colab.kernel.accessAllowed ? 'block' : 'none';\n",
              "    })();\n",
              "  </script>\n",
              "</div>\n",
              "\n",
              "    </div>\n",
              "  </div>\n"
            ],
            "application/vnd.google.colaboratory.intrinsic+json": {
              "type": "dataframe",
              "repr_error": "0"
            }
          },
          "metadata": {},
          "execution_count": 40
        }
      ]
    },
    {
      "cell_type": "markdown",
      "source": [
        "Segundo o ID, os melhores jogos segundo as opiniões da torcida foram:\n",
        "\n"
      ],
      "metadata": {
        "id": "rnFA2fcff2k-"
      }
    },
    {
      "cell_type": "code",
      "source": [
        "Image('/content/amados.png')"
      ],
      "metadata": {
        "colab": {
          "base_uri": "https://localhost:8080/",
          "height": 638
        },
        "id": "A_YfYugjf1a4",
        "outputId": "385c8527-1ca5-4f8e-c84f-372fdca1c6e0"
      },
      "execution_count": 43,
      "outputs": [
        {
          "output_type": "execute_result",
          "data": {
            "image/png": "[encoded data removed]",
            "text/plain": [
              "<IPython.core.display.Image object>"
            ]
          },
          "metadata": {},
          "execution_count": 43
        }
      ]
    },
    {
      "cell_type": "markdown",
      "source": [
        "De fato a análise refletiu com o que se esperava, com derrotas tendo o conteúdo mais negativa das opiniões (mesmo na vitória sobre o Flamengo, o Palmeiras foi eliminado), e vitórias com opiniões mais positivas.\n",
        "\n",
        "Por curiosidade, vamos ver alguns exemplos de comentários do pior e do melhor jogo:"
      ],
      "metadata": {
        "id": "c5QBs8aWoJYy"
      }
    },
    {
      "cell_type": "code",
      "source": [
        "#pior jogo:\n",
        "with open('/content/fluminense-x-palmeiras-072024.json', 'r', encoding='utf-8') as arquivo:\n",
        "    dados = json.load(arquivo)\n",
        "\n",
        "#comentário\n",
        "dados['opinioes'][0]"
      ],
      "metadata": {
        "colab": {
          "base_uri": "https://localhost:8080/",
          "height": 35
        },
        "id": "MTbxvTSaf3Hy",
        "outputId": "713eb493-d528-4e6d-b54e-f17ef98931e7"
      },
      "execution_count": 68,
      "outputs": [
        {
          "output_type": "execute_result",
          "data": {
            "text/plain": [
              "'Destruiu o time quando tirou Veiga e Aníbal numa só tacada.'"
            ],
            "application/vnd.google.colaboratory.intrinsic+json": {
              "type": "string"
            }
          },
          "metadata": {},
          "execution_count": 68
        }
      ]
    },
    {
      "cell_type": "code",
      "source": [
        "#comentário\n",
        "dados['opinioes'][1]"
      ],
      "metadata": {
        "colab": {
          "base_uri": "https://localhost:8080/",
          "height": 70
        },
        "id": "X3y3xu7SpG4i",
        "outputId": "1be8e36d-48e2-4adc-f2e9-aaa74c850d67"
      },
      "execution_count": 46,
      "outputs": [
        {
          "output_type": "execute_result",
          "data": {
            "text/plain": [
              "'Esperar algo diferente quando tem em campo Marcos Rocha, Menino e Zé Preguiça e Rony é loucura. Esses jogadores sao a cara da derrota! Abel tem que colocar o Gyai para jogador, o Romulo não pode ser reserva do Menino, Duvido que o Luighi jogue menos que o Rony. Abel e seus queridinhos, vão todas tomar um suco de caju! Sem açúcar!'"
            ],
            "application/vnd.google.colaboratory.intrinsic+json": {
              "type": "string"
            }
          },
          "metadata": {},
          "execution_count": 46
        }
      ]
    },
    {
      "cell_type": "code",
      "source": [
        "#comentário\n",
        "dados['opinioes'][2]"
      ],
      "metadata": {
        "colab": {
          "base_uri": "https://localhost:8080/",
          "height": 70
        },
        "id": "Gpa9BUwmpHey",
        "outputId": "aa1e7f95-1bc6-42b4-be05-06efdcd85e44"
      },
      "execution_count": 69,
      "outputs": [
        {
          "output_type": "execute_result",
          "data": {
            "text/plain": [
              "'PERDEMOS PARA A PORR4 DO LANTERNA DO CAMPEONATO, TIME DE APOSENTADO!! VERGONHOSO, SIMPLES ASSIM, PARTIDA NOJENTA, SE JOGAR ASSIM OS MATA MATA ESQUECE! ENFIA ESSA PORR4 DE GABRIEL MENINO E DESSE MARCOS ROCHA NO ** NÃO CONSEGUE JOGAR CONTRA ESSE TIME DE APOSENTADOS, VAI JOGAR CONTRA FLAMIDIA E BOSTAFOGO? JOGA ASSIM QUE O ANO ACABA LOGO LOGO'"
            ],
            "application/vnd.google.colaboratory.intrinsic+json": {
              "type": "string"
            }
          },
          "metadata": {},
          "execution_count": 69
        }
      ]
    },
    {
      "cell_type": "code",
      "source": [
        "#pior jogo:\n",
        "with open('/content/palmeiras-x-juventude-062024.json', 'r', encoding='utf-8') as arquivo:\n",
        "    dados = json.load(arquivo)\n",
        "\n",
        "#comentário\n",
        "dados['opinioes'][0]"
      ],
      "metadata": {
        "colab": {
          "base_uri": "https://localhost:8080/",
          "height": 53
        },
        "id": "T34-5csrpO9g",
        "outputId": "7048e708-cf22-4e21-fee5-f80e12d0ab69"
      },
      "execution_count": 49,
      "outputs": [
        {
          "output_type": "execute_result",
          "data": {
            "text/plain": [
              "'hoje o juventude dificultou no 1 tempo. estevão além de não ter apoio do rocha, ainda teve marcação dobrada. mas o time está forte, na hora que o time \"titular\" está em campo o jogo melhora. Anibal faz diferença nesse meio de campo.'"
            ],
            "application/vnd.google.colaboratory.intrinsic+json": {
              "type": "string"
            }
          },
          "metadata": {},
          "execution_count": 49
        }
      ]
    },
    {
      "cell_type": "code",
      "source": [
        "#comentário\n",
        "dados['opinioes'][3]"
      ],
      "metadata": {
        "colab": {
          "base_uri": "https://localhost:8080/",
          "height": 53
        },
        "id": "g1D_SsZlpXws",
        "outputId": "6a2b68b1-0cd8-4395-ba6f-7ea02daeed34"
      },
      "execution_count": 52,
      "outputs": [
        {
          "output_type": "execute_result",
          "data": {
            "text/plain": [
              "'Bom jogo, tirando a falha no latereio e alguns espaços dados, jogo foi controlado até. O juventude não é bobo, foi um bom resultado. +3 pontos avanti!'"
            ],
            "application/vnd.google.colaboratory.intrinsic+json": {
              "type": "string"
            }
          },
          "metadata": {},
          "execution_count": 52
        }
      ]
    },
    {
      "cell_type": "code",
      "source": [
        "#comentário\n",
        "dados['opinioes'][2]"
      ],
      "metadata": {
        "colab": {
          "base_uri": "https://localhost:8080/",
          "height": 105
        },
        "id": "vYrqIL8jpYCN",
        "outputId": "46311b03-b5c7-40db-9dfc-ba3a43b1d61a"
      },
      "execution_count": 51,
      "outputs": [
        {
          "output_type": "execute_result",
          "data": {
            "text/plain": [
              "'Bom jogo, dessa vez com muitos desfalques. Vi muita gente incomodada com o primeiro tempo, mas esse era um jogo difícil que necessitava de muita paciência e troca de bola. O adversário optou por uma postura muito defensiva e antijogo, permitido pelo árbitro. Veiga mais uma vez muito bem, Estêvão decisivo. Flaco com participação direta em dois gols, mas tem quem não goste. A nota negativa fica pro Murilo, que entregou o gol e depois ainda cedeu uma grande chance pro adversário. Só mais um jogo pra fechar um junho com 100% de aproveitamento.'"
            ],
            "application/vnd.google.colaboratory.intrinsic+json": {
              "type": "string"
            }
          },
          "metadata": {},
          "execution_count": 51
        }
      ]
    },
    {
      "cell_type": "markdown",
      "source": [
        "De fato, condiz com o que foi visto na análise de sentimento."
      ],
      "metadata": {
        "id": "H881dTF6pf1B"
      }
    },
    {
      "cell_type": "markdown",
      "source": [
        "Partindo para uma última análise, vamos verificar como estava as opiniões da torcida ao longo do ano:"
      ],
      "metadata": {
        "id": "GhicwMO-pkgA"
      }
    },
    {
      "cell_type": "code",
      "source": [
        "import matplotlib.pyplot as plt\n",
        "plt.plot(data['sentimentos'][::1]) #inverter para ficar na ordem cronologica\n",
        "plt.gca().set_aspect('auto', adjustable='box')\n",
        "plt.xticks([]) #tirar os numeros do eixo y\n",
        "plt.title('Sentimentos médios das partidas ao longo do ano')\n",
        "plt.ylabel('Sentimento')\n",
        "plt.show()"
      ],
      "metadata": {
        "colab": {
          "base_uri": "https://localhost:8080/",
          "height": 429
        },
        "id": "EdFZv4bLptcp",
        "outputId": "76173fd3-b590-4693-c0f3-c704f6fca008"
      },
      "execution_count": 56,
      "outputs": [
        {
          "output_type": "display_data",
          "data": {
            "text/plain": [
              "<Figure size 640x480 with 1 Axes>"
            ],
            "image/png": "[encoded data removed]"
          },
          "metadata": {}
        }
      ]
    },
    {
      "cell_type": "markdown",
      "source": [
        "Como temos muitos picos e vales, uma média móvel pode ser melhor para capturar o comportamento."
      ],
      "metadata": {
        "id": "soRIAm9ltlpE"
      }
    },
    {
      "cell_type": "code",
      "source": [
        "mm = data['sentimentos'][::1].rolling(window=5, center=True, min_periods=1).mean() #janela de 2 para trás e 2 frente\n",
        "plt.plot(mm, label='Média Móvel', linestyle='--', color='red')\n",
        "\n",
        "# Adicionando título e rótulos\n",
        "plt.title('Gráfico de Média Móvel sentimentos')\n",
        "plt.ylabel('Média Móvel')\n",
        "plt.xticks([]) #tirar os numeros do eixo y\n",
        "\n",
        "# Exibindo o gráfico\n",
        "plt.show()"
      ],
      "metadata": {
        "colab": {
          "base_uri": "https://localhost:8080/",
          "height": 428
        },
        "id": "cx0GzuQarxs5",
        "outputId": "10a821d0-1f17-4f46-962f-2617e96b8881"
      },
      "execution_count": 70,
      "outputs": [
        {
          "output_type": "display_data",
          "data": {
            "text/plain": [
              "<Figure size 640x480 with 1 Axes>"
            ],
            "image/png": "[encoded data removed]"
          },
          "metadata": {}
        }
      ]
    },
    {
      "cell_type": "markdown",
      "source": [
        "Pela análise do gráfico, temos uma queda no contentamento da torcidade com os jogos no primeiro trimestre do ano, seguido de um grande pico de contentamento após isso, atingindo o valor máximo da análise de sentimentos no meio do ano. Após isso, houve novamente uma queda busca, seguindo de um leve aumento seguido de uma queda até o final do ano.\n",
        "\n"
      ],
      "metadata": {
        "id": "imPsLyxR2sew"
      }
    },
    {
      "cell_type": "markdown",
      "source": [
        "Marcando os piores jogos:"
      ],
      "metadata": {
        "id": "SOx6_CTYuKAT"
      }
    },
    {
      "cell_type": "code",
      "source": [
        "mm = data['sentimentos'][::1].rolling(window=5, center=True, min_periods=1).mean() #janela de 2 para trás e 2 frente\n",
        "plt.plot(mm, label='Média Móvel', linestyle='--', color='red')\n",
        "\n",
        "# Adicionando título e rótulos\n",
        "plt.title('Gráfico de Média Móvel sentimentos')\n",
        "plt.ylabel('Média Móvel')\n",
        "\n",
        "plt.axvline(x=61-22, color='red', linestyle='-', linewidth=2)\n",
        "plt.axvline(x=61-60, color='red', linestyle='-', linewidth=2)\n",
        "plt.axvline(x=61-54, color='red', linestyle='-', linewidth=2)\n",
        "plt.axvline(x=61-18, color='red', linestyle='-', linewidth=2)\n",
        "plt.axvline(x=61-29, color='red', linestyle='-', linewidth=2)\n",
        "\n",
        "\n",
        "# Exibindo o gráfico\n",
        "plt.show()\n",
        "\n"
      ],
      "metadata": {
        "colab": {
          "base_uri": "https://localhost:8080/",
          "height": 452
        },
        "id": "9Jkbr0qtuNVU",
        "outputId": "e580449b-7ea3-4a53-efd0-a020de3e90d3"
      },
      "execution_count": 71,
      "outputs": [
        {
          "output_type": "display_data",
          "data": {
            "text/plain": [
              "<Figure size 640x480 with 1 Axes>"
            ],
            "image/png": "[encoded data removed]"
          },
          "metadata": {}
        }
      ]
    },
    {
      "cell_type": "markdown",
      "source": [
        "Podemos verificar que 2 dos piores jogos se localizam no início do ano. Um deles ainda está no maior pico, e dois deles após a queda deste pico. Impressiona que nenhum deles está no maior vale do gráfico."
      ],
      "metadata": {
        "id": "nPoG7E6X3cKI"
      }
    },
    {
      "cell_type": "code",
      "source": [
        "mm = data['sentimentos'][::1].rolling(window=5, center=True, min_periods=1).mean() #janela de 2 para trás e 2 frente\n",
        "plt.plot(mm, label='Média Móvel', linestyle='--', color='red')\n",
        "\n",
        "# Adicionando título e rótulos\n",
        "plt.title('Gráfico de Média Móvel sentimentos')\n",
        "plt.ylabel('Média Móvel')\n",
        "\n",
        "plt.axvline(x=61-30, color='green', linestyle='-', linewidth=2)\n",
        "plt.axvline(x=61-52, color='green', linestyle='-', linewidth=2)\n",
        "plt.axvline(x=61-26, color='green', linestyle='-', linewidth=2)\n",
        "plt.axvline(x=61-32, color='green', linestyle='-', linewidth=2)\n",
        "plt.axvline(x=61-48, color='green', linestyle='-', linewidth=2)\n",
        "\n",
        "\n",
        "# Exibindo o gráfico\n",
        "plt.show()"
      ],
      "metadata": {
        "colab": {
          "base_uri": "https://localhost:8080/",
          "height": 452
        },
        "id": "ibn-Sndmu61C",
        "outputId": "b44620d7-ec8c-4f9c-c862-a656d9848f12"
      },
      "execution_count": 72,
      "outputs": [
        {
          "output_type": "display_data",
          "data": {
            "text/plain": [
              "<Figure size 640x480 with 1 Axes>"
            ],
            "image/png": "[encoded data removed]"
          },
          "metadata": {}
        }
      ]
    },
    {
      "cell_type": "markdown",
      "source": [
        "Com relação ao melhores jogos, dois deles estão em um pequeno pico após o início do ano, e o restante no maior pico presente no gráfico."
      ],
      "metadata": {
        "id": "x247UIYP4p8C"
      }
    },
    {
      "cell_type": "markdown",
      "source": [
        "Conclusão: com as análises, foi possível identificar os 5 jogos onde a opinião da torcida foi mais positiva de acordo com a análise de sentimentos, além dos piores também. Pode-se ressaltar que as análises refletem os resultados dos jogos na \"vida real\". Ainda, foi possível verificar o comportamento da satisfação dos torcedores ao longo do ano, observando os vales e picos dos sentimentos, além de onde os melhores e piores anos se enquadram nessas análises."
      ],
      "metadata": {
        "id": "eN4I1ZK_4z0-"
      }
    }
  ]
}